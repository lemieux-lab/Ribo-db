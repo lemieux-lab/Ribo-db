{
 "cells": [
  {
   "cell_type": "markdown",
   "metadata": {},
   "source": [
    "# Data Preparation RNA-seq Reads"
   ]
  },
  {
   "cell_type": "markdown",
   "metadata": {},
   "source": [
    "## Trimming Reads to remove sequence adapters"
   ]
  },
  {
   "cell_type": "markdown",
   "metadata": {},
   "source": [
    "For every replicate, you define the paths where to find the input and where to save the output in order to execute the trim. Using qsub all tasks are launched at the same time."
   ]
  },
  {
   "cell_type": "code",
   "execution_count": 1,
   "metadata": {
    "ExecuteTime": {
     "end_time": "2020-05-17T19:04:48.247686Z",
     "start_time": "2020-05-17T19:04:48.216175Z"
    }
   },
   "outputs": [],
   "source": [
    "%%bash\n",
    "\n",
    "pathBunchFiles='.../RNA_Seq_Data/' # Path to find all the RNA seq samples\n",
    "outputPath='.../RNA_Seq_Data/Trimmed'\n",
    "qsubOutput='.../qsub_outputs'\n",
    "logs='.../logs'\n",
    "\n",
    "sh ../../../Scripts/1_Data_Preparation/RNA_seq/Trimming/1_trimmBunchSeqFiles.sh $pathBunchFiles $outputPath $qsubOutput $logs\n"
   ]
  },
  {
   "cell_type": "markdown",
   "metadata": {},
   "source": [
    "## Alignment Reads to the Genome !"
   ]
  },
  {
   "cell_type": "markdown",
   "metadata": {},
   "source": [
    "Alignment was done end to end using the STAR aligner against the human genome (hg38)"
   ]
  },
  {
   "cell_type": "markdown",
   "metadata": {},
   "source": [
    "Input Files\n",
    "```bash\n",
    "\"\"\"\n",
    "genomeDirectory : path\n",
    "    Path to the index of the Genome\n",
    "outputFilterMatchInt :  int\n",
    "    Alignment will be output only if the number of matched bases is higher than or equal to this value\n",
    "inputFilesR1_1: path\n",
    "    Path to files that contain input reads : R1 - Replicate 1\n",
    "inputFilesR1_2 : path\n",
    "    Path to files that contain input reads : R1 - Replicate 2\n",
    "inputFilesR2_1: path\n",
    "    Path to files that contain input reads : R2 - Replicate 1\n",
    "inputFilesR2_2 : path\n",
    "    Path to files that contain input reads : R2 - Replicate 2\n",
    "        \n",
    "outputFile : path\n",
    "    Path where output will be store\n",
    "nameTask : string \n",
    "    qsub names task : To identify the task \n",
    "saveOutputQsub : path\n",
    "    Path to save qsub output \n",
    "logPath : path\n",
    "    Path to save log output \n",
    "\"\"\"\n",
    "```\n",
    "Output Files\n",
    "```bash\n",
    "\"\"\"\n",
    "    Any STAR alignment output will be store in $outputFile\n",
    "    e.g. Bam File\n",
    "\"\"\"\n",
    "```"
   ]
  },
  {
   "cell_type": "code",
   "execution_count": 4,
   "metadata": {
    "ExecuteTime": {
     "end_time": "2020-07-09T14:42:44.913212Z",
     "start_time": "2020-07-09T14:42:44.653113Z"
    }
   },
   "outputs": [
    {
     "name": "stdout",
     "output_type": "stream",
     "text": [
      "Alignment to the genome -- RNA \n"
     ]
    }
   ],
   "source": [
    "%%bash\n",
    "\n",
    "# For each sample do:\n",
    "\n",
    "echo \"Alignment to the genome -- RNA \"\n",
    "genomeDirectory='../../../Data_Input_Scripts/IndexStarRNA_Seq/'\n",
    "outputFilterMatchInt=40\n",
    "\n",
    "inputFilesR1_1='.../RNA_Seq_Data/Trimmed/R1_trimmed_repl1.fastq'\n",
    "inputFilesR1_2='.../RNA_Seq_Data/Trimmed/R1_trimmed_repl2.fastq'\n",
    "\n",
    "inputFilesR2_1='.../RNA_Seq_Data/Trimmed/R2_trimmed_repl1.fastq'\n",
    "inputFilesR2_2='.../RNA_Seq_Data/Trimmed/R2_trimmed_repl2.fastq'\n",
    "\n",
    "outputFile='.../RNA_Seq_Data/Data_Preparation/AlignmentReadsGenome/RNA/RNA_'\n",
    "nameTask='Mapping_RNA_Reads'\n",
    "saveOutputQsub='.../qsub_outputs'\n",
    "logPath='.../logs'\n",
    "\n",
    "sh ../../../Scripts/1_Data_Preparation/RNA_seq/Alignment/alignmentPairedEnd_RNA_Seq.sh $genomeDirectory $outputFilterMatchInt $inputFilesR1_1 $inputFilesR1_2 $inputFilesR2_1 $inputFilesR2_2 $outputFile $nameTask $saveOutputQsub $logPath\n"
   ]
  },
  {
   "cell_type": "markdown",
   "metadata": {},
   "source": [
    "## Index Bam File"
   ]
  },
  {
   "cell_type": "markdown",
   "metadata": {},
   "source": [
    "Input Files\n",
    "```bash\n",
    "\"\"\"\n",
    "inputFile : path \n",
    "    Path to file that contain the BAM File\n",
    "outputFile : path \n",
    "    Path where output index will be store\n",
    "nameTask : string\n",
    "    qsub name task \n",
    "saveOutputQsub : path\n",
    "    Path to save qsub output \n",
    "logPath : path\n",
    "    Path to save log output \n",
    "\"\"\"\n",
    "```\n",
    "Output File\n",
    "```bash\n",
    "\"\"\"\n",
    "    bai index will be store in $outputFile\n",
    "\"\"\"\n",
    "```"
   ]
  },
  {
   "cell_type": "code",
   "execution_count": 3,
   "metadata": {
    "ExecuteTime": {
     "end_time": "2020-05-17T19:21:34.201626Z",
     "start_time": "2020-05-17T19:21:34.167947Z"
    }
   },
   "outputs": [
    {
     "name": "stdout",
     "output_type": "stream",
     "text": [
      "Index For Bam File RNA\n"
     ]
    }
   ],
   "source": [
    "%%bash\n",
    "\n",
    "echo 'Index For Bam File RNA'\n",
    "inputFile='.../RNA_Seq_Data/Data_Preparation/AlignmentReadsGenome/RNA/RNA_Aligned.sortedByCoord.out.bam'\n",
    "outputFile='.../RNA_Seq_Data/Data_Preparation/AlignmentReadsGenome/RNA/RNA_Aligned.sortedByCoord.out.bam.bai'\n",
    "nameTask='IndexForBAMFile_RNA'\n",
    "saveOutputQsub='.../qsub_outputs/'\n",
    "logPath='.../logs/'\n",
    "\n",
    "sh ../../../Scripts/1_Data_Preparation/RNA_seq/Alignment/creationIndexBamFile.sh $inputFile $outputFile $nameTask $saveOutputQsub $logPath\n"
   ]
  }
 ],
 "metadata": {
  "kernelspec": {
   "display_name": "Python 2",
   "language": "python",
   "name": "python2"
  },
  "language_info": {
   "codemirror_mode": {
    "name": "ipython",
    "version": 2
   },
   "file_extension": ".py",
   "mimetype": "text/x-python",
   "name": "python",
   "nbconvert_exporter": "python",
   "pygments_lexer": "ipython2",
   "version": "2.7.5"
  },
  "latex_envs": {
   "LaTeX_envs_menu_present": true,
   "autoclose": false,
   "autocomplete": true,
   "bibliofile": "biblio.bib",
   "cite_by": "apalike",
   "current_citInitial": 1,
   "eqLabelWithNumbers": true,
   "eqNumInitial": 1,
   "hotkeys": {
    "equation": "Ctrl-E",
    "itemize": "Ctrl-I"
   },
   "labels_anchors": false,
   "latex_user_defs": false,
   "report_style_numbering": false,
   "user_envs_cfg": false
  },
  "toc": {
   "base_numbering": 1,
   "nav_menu": {},
   "number_sections": true,
   "sideBar": true,
   "skip_h1_title": false,
   "title_cell": "Table of Contents",
   "title_sidebar": "Contents",
   "toc_cell": false,
   "toc_position": {},
   "toc_section_display": true,
   "toc_window_display": true
  }
 },
 "nbformat": 4,
 "nbformat_minor": 2
}
