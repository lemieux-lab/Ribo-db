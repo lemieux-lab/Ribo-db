{
 "cells": [
  {
   "cell_type": "markdown",
   "metadata": {},
   "source": [
    "# Data Preparation Ribo-seq Reads"
   ]
  },
  {
   "cell_type": "markdown",
   "metadata": {},
   "source": [
    "## Clipping Reads to remove sequence adapters"
   ]
  },
  {
   "cell_type": "markdown",
   "metadata": {},
   "source": [
    "For every replicate, you define the paths where to find the input and where to save the output in order to execute the clipper. Using qsub all tasks are launched at the same time."
   ]
  },
  {
   "cell_type": "code",
   "execution_count": 12,
   "metadata": {
    "ExecuteTime": {
     "end_time": "2020-07-09T13:59:57.178577Z",
     "start_time": "2020-07-09T13:59:56.777803Z"
    }
   },
   "outputs": [],
   "source": [
    "%%bash\n",
    "\n",
    "# Edit manifest file to trim every replicate of each sample\n",
    "manifest='../../../Scripts/1_Data_Preparation/Ribo_seq/Clipping/manifest.ini'\n",
    "# Set path to save logs \n",
    "logs='.../logs'\n",
    "\n",
    "sh ../../../Scripts/1_Data_Preparation/Ribo_seq/Clipping/runDataPreparation.sh $manifest $logs\n"
   ]
  },
  {
   "cell_type": "markdown",
   "metadata": {},
   "source": [
    "## UMI Detection Bar codes : UMI whiteList"
   ]
  },
  {
   "cell_type": "markdown",
   "metadata": {},
   "source": [
    "Unique Molecular Identifiers (UMI) are used to find and remove PCR duplicates"
   ]
  },
  {
   "cell_type": "code",
   "execution_count": 4,
   "metadata": {
    "ExecuteTime": {
     "end_time": "2020-05-17T15:59:37.382037Z",
     "start_time": "2020-05-17T15:59:37.352997Z"
    }
   },
   "outputs": [],
   "source": [
    "%%bash\n",
    "# To Identify UMI Bar codes\n",
    "\n",
    "nameTask='UMI_' # Name your qsub task identifier\n",
    "saveOutputQsub='.../qsub_outputs' # Path to save outputs\n",
    "logPath='.../logs' # Path to save logs\n",
    "\n",
    "masterDirectory='.../Data_Preparation/Ribo_Seq_Data/ClippedData/' # Path where to find the clipped reads\n",
    "\n",
    " for entry in \"$masterDirectory\"*\n",
    "    do\n",
    "        if [[ $entry == *\"fastq\"* ]]; then\n",
    "           IFS='/' read -ra ADDR <<< $entry\n",
    "           fastaName=${ADDR[-1]}\n",
    "           IFS='.' read -ra ADDR <<< $fastaName\n",
    "           newNameTask=$nameTask${ADDR[0]}\n",
    "           outPutWhiteList=$masterDirectory$newNameTask'_whitelist.txt'\n",
    "           sh ../../../Scripts/1_Data_Preparation/Ribo_seq/UMI/UMI_WhiteList.sh $entry $outPutWhiteList $newNameTask $saveOutputQsub $logPath\n",
    "        fi\n",
    "    done\n"
   ]
  },
  {
   "cell_type": "markdown",
   "metadata": {},
   "source": [
    "## UMI extraction"
   ]
  },
  {
   "cell_type": "code",
   "execution_count": 6,
   "metadata": {
    "ExecuteTime": {
     "end_time": "2020-05-17T16:01:03.219106Z",
     "start_time": "2020-05-17T16:01:03.193217Z"
    }
   },
   "outputs": [],
   "source": [
    "%%bash\n",
    "# To Remove UMI Bar codes\n",
    "\n",
    "nameTask='UMI_Extract_'\n",
    "saveOutputQsub='.../qsub_outputs'\n",
    "logPath='.../logs'\n",
    "\n",
    "masterDirectory='.../Data_Preparation/Ribo_Seq_Data/ClippedData/'\n",
    "\n",
    "for entry in \"$masterDirectory\"*\n",
    "    do\n",
    "        if [[ $entry == *\"fastq\"* ]]; then\n",
    "           IFS='/' read -ra ADDR <<< $entry\n",
    "           fastaName=${ADDR[-1]}\n",
    "           IFS='.' read -ra ADDR <<< $fastaName\n",
    "           newNameTask=$nameTask${ADDR[0]}\n",
    "           oldNameTask='UMI_'${ADDR[0]}\n",
    "           outPutWhiteList=$masterDirectory$oldNameTask'_whitelist.txt'\n",
    "           outPutFastq=$masterDirectory${ADDR[0]}'.UMI.fastq'\n",
    "           sh ../../../Scripts/1_Data_Preparation/Ribo_seq/UMI/UMI_Extract.sh $entry $outPutFastq $outPutWhiteList $newNameTask $saveOutputQsub $logPath\n",
    "        fi\n",
    "    done"
   ]
  },
  {
   "cell_type": "markdown",
   "metadata": {},
   "source": [
    "## Filtering By Length"
   ]
  },
  {
   "cell_type": "markdown",
   "metadata": {},
   "source": [
    "After the above steps we keep Ribosome Profiling reads that have a size between 26-34 bp lenght.\n",
    "\n",
    "This must do for each sample and for each Ribo-TIS et Ribo-Elongation fasta reads"
   ]
  },
  {
   "cell_type": "markdown",
   "metadata": {},
   "source": [
    "Input Files\n",
    "```bash\n",
    "\"\"\"\n",
    "input : path\n",
    "    Path to clipped files : Clipped_{NAME_SAMPLE}.UMI.fastq : Must include the name of the output file corresponding to the NAME_SAMPLE\n",
    "output : path\n",
    "    Path to save the output : Filetered files : Must include the name of the output file corresponding to the NAME_SAMPLE\n",
    "qsubPath : path\n",
    "    Path to save qsub output\n",
    "logPath : path\n",
    "    Path to save log output\n",
    "\"\"\"\n",
    "```\n"
   ]
  },
  {
   "cell_type": "code",
   "execution_count": 7,
   "metadata": {
    "ExecuteTime": {
     "end_time": "2020-05-17T16:16:07.898706Z",
     "start_time": "2020-05-17T16:16:07.769392Z"
    }
   },
   "outputs": [],
   "source": [
    "%%bash\n",
    "\n",
    "input='.../Data_Preparation/Ribo_Seq_Data/ClippedData/Clipped_{NAME_SAMPLE}.UMI.fastq'\n",
    "output='.../Data_Preparation/Ribo_Seq_Data/Filtered_by_Length_Data/Filtered_reads{NAME_SAMPLE}.fastq'\n",
    "qsubPath='.../qsub_outputs'\n",
    "logPath='.../logs'\n",
    "\n",
    "sh ../../../Scripts/1_Data_Preparation/Ribo_seq/Filtering/0_toRunFilter.sh $input $output $qsubPath $logPath\n"
   ]
  },
  {
   "cell_type": "markdown",
   "metadata": {},
   "source": [
    "## Alignment Reads Ribosome Profiling "
   ]
  },
  {
   "cell_type": "markdown",
   "metadata": {},
   "source": [
    "Alignment was done end to end using the STAR aligner against the human genome (hg38).\n",
    "\n",
    "Aligment of Ribo-TIS and Ribo-Elongation reads for a given sample"
   ]
  },
  {
   "cell_type": "markdown",
   "metadata": {
    "ExecuteTime": {
     "end_time": "2020-07-15T18:36:16.835745Z",
     "start_time": "2020-07-15T18:36:16.737021Z"
    }
   },
   "source": [
    "Input Files\n",
    "```bash\n",
    "\"\"\"\n",
    "genomeDirectory : path\n",
    "    Path to the index of the Genome\n",
    "outputFilterMatchInt :  int\n",
    "    Number of minimum matched bases \n",
    "inputFilesR1_1: path\n",
    "    Path to files that contain input reads : Replicate 1\n",
    "inputFilesR1_2 : path\n",
    "    Path to files that contain input reads : Replicate 2\n",
    "outputFile : path\n",
    "    Path where output will be store\n",
    "anchorMM : int\n",
    "    Max number of loci anchors are allowed to map to\n",
    "nameTask : string \n",
    "    qsub names task : To identify the task \n",
    "saveOutputQsub : path\n",
    "    Paht to save qsub output \n",
    "logPath : path\n",
    "    Path to save log output \n",
    "\"\"\"\n",
    "```\n",
    "Output Files\n",
    "```bash\n",
    "\"\"\"\n",
    "    Any STAR alignment output will be store in $outputFile\n",
    "    e.g. Bam File\n",
    "\"\"\"\n",
    "```\n"
   ]
  },
  {
   "cell_type": "code",
   "execution_count": 13,
   "metadata": {
    "ExecuteTime": {
     "end_time": "2020-07-09T14:25:10.026465Z",
     "start_time": "2020-07-09T14:25:09.902048Z"
    }
   },
   "outputs": [
    {
     "name": "stdout",
     "output_type": "stream",
     "text": [
      "Alignment to The genome -- RiboTis\n",
      "Alignment to The genome -- RiboElong\n"
     ]
    }
   ],
   "source": [
    "%%bash\n",
    "outputFilterMatchInt=25\n",
    "anchorMM=150\n",
    "\n",
    "echo \"Alignment to The genome -- RiboTis\"\n",
    "genomeDirectory='../../../Data_Input_Scripts/IndexStarRibosomeProfiling/'\n",
    "inputFilesR1_1='.../Data_Preparation/Ribo_Seq_Data/Filtered_by_Length_Data/....fastq'\n",
    "inputFilesR1_2='.../Data_Preparation/Ribo_Seq_Data/Filtered_by_Length_Data/....fastq'\n",
    "outputFile='.../Data_Preparation/Ribo_Seq_Data/Alignment_Reads_Genome/Ribo/TIS/'\n",
    "nameTask='Mapping_RiboTis_reads'\n",
    "saveOutputQsub='.../qsub_outputs'\n",
    "logPath='.../logs'\n",
    "\n",
    "sh ../../../Scripts/1_Data_Preparation/Ribo_seq/Alignment/alignmentSingleEnd_Ribo_Seq.sh $genomeDirectory $outputFilterMatchInt $inputFilesR1_1 $inputFilesR1_2 $outputFile $anchorMM $nameTask $saveOutputQsub $logPath\n",
    "\n",
    "echo \"Alignment to The genome -- RiboElong\"\n",
    "genomeDirectory='../../../Data_Input_Scripts/IndexStarRibosomeProfiling/'\n",
    "inputFilesR1_1='.../Data_Preparation/Ribo_Seq_Data/Filtered_by_Length_Data/....fastq'\n",
    "inputFilesR1_2='.../Data_Preparation/Ribo_Seq_Data/Filtered_by_Length_Data/....fastq'\n",
    "outputFile='.../Data_Preparation/Ribo_Seq_Data/Alignment_Reads_Genome/Ribo/Elong/'\n",
    "nameTask='Mapping_RiboElong_reads'\n",
    "saveOutputQsub='.../qsub_outputs'\n",
    "logPath='.../logs'\n",
    "\n",
    "sh ../../../Scripts/1_Data_Preparation/Ribo_seq/Alignment/alignmentSingleEnd_Ribo_Seq.sh $genomeDirectory $outputFilterMatchInt $inputFilesR1_1 $inputFilesR1_2 $outputFile $anchorMM $nameTask $saveOutputQsub $logPath\n"
   ]
  },
  {
   "cell_type": "markdown",
   "metadata": {},
   "source": [
    "## IndexFile Bam File"
   ]
  },
  {
   "cell_type": "markdown",
   "metadata": {},
   "source": [
    "To generate a sorted Index to each Bam File"
   ]
  },
  {
   "cell_type": "markdown",
   "metadata": {
    "ExecuteTime": {
     "end_time": "2020-07-15T18:38:33.613626Z",
     "start_time": "2020-07-15T18:38:33.525596Z"
    }
   },
   "source": [
    "Input Files\n",
    "```bash\n",
    "\"\"\"\n",
    "inputFile : path \n",
    "    Path to file that contain the BAM File\n",
    "outputFile : path \n",
    "    Path where output index will be store\n",
    "nameTask : string\n",
    "    qsub name task \n",
    "saveOutputQsub : path\n",
    "    Paht to save qsub output \n",
    "logPath : path\n",
    "    Path to save log output \n",
    "\"\"\"\n",
    "```\n",
    "Output File\n",
    "```bash\n",
    "\"\"\"\n",
    "    bai index will be store in $outputFile\n",
    "\"\"\"\n",
    "```"
   ]
  },
  {
   "cell_type": "code",
   "execution_count": 9,
   "metadata": {
    "ExecuteTime": {
     "end_time": "2020-05-17T16:38:08.009474Z",
     "start_time": "2020-05-17T16:38:07.978743Z"
    }
   },
   "outputs": [
    {
     "name": "stdout",
     "output_type": "stream",
     "text": [
      "Index For Bam File Ribo Tis\n",
      "Index For Bam File Ribo Elong\n"
     ]
    }
   ],
   "source": [
    "%%bash\n",
    "\n",
    "echo 'Index For Bam File Ribo Tis'\n",
    "inputFile='.../Data_Preparation/Ribo_Seq_Data/Alignment_Reads_Genome/Ribo/TIS/...bam'\n",
    "outputFile='.../Data_Preparation/Ribo_Seq_Data/Alignment_Reads_Genome/Ribo/TIS/...bai'\n",
    "nameTask='IndexForBAMFile_RiboTis'\n",
    "saveOutputQsub='.../qsub_outputs'\n",
    "logPath='.../logs'\n",
    "\n",
    "sh ../../../Scripts/1_Data_Preparation/Ribo_seq/Alignment/creationIndexBamFile.sh $inputFile $outputFile $nameTask $saveOutputQsub $logPath\n",
    "\n",
    "echo 'Index For Bam File Ribo Elong'\n",
    "inputFile='.../Data_Preparation/Ribo_Seq_Data/Alignment_Reads_Genome/Ribo/Elong/...bam'\n",
    "outputFile='.../Data_Preparation/Ribo_Seq_Data/Alignment_Reads_Genome/Ribo/Elong/...bai'\n",
    "nameTask='IndexForBAMFile_RiboElongation'\n",
    "saveOutputQsub='.../qsub_outputs'\n",
    "logPath='.../logs'\n",
    "\n",
    "sh ../../../Scripts/1_Data_Preparation/Ribo_seq/Alignment/creationIndexBamFile.sh $inputFile $outputFile $nameTask $saveOutputQsub $logPath\n"
   ]
  },
  {
   "cell_type": "markdown",
   "metadata": {},
   "source": [
    "## Deduplication Bam File"
   ]
  },
  {
   "cell_type": "markdown",
   "metadata": {},
   "source": [
    "Remove PCR duplicates according to UMI : Using umi tools"
   ]
  },
  {
   "cell_type": "markdown",
   "metadata": {},
   "source": [
    "Input Files\n",
    "```bash\n",
    "\"\"\"\n",
    "saveOutputQsub : path\n",
    "    Path to save qsub output\n",
    "logPath : path\n",
    "    Path to save log output\n",
    "entry : path\n",
    "    Path to BAM file that will be deduplicated\n",
    "outPutBamFile : path\n",
    "    Path where new DD bam file will be stored\n",
    "outPutFolder : path\n",
    "    Path to save additional output file from UMI tools\n",
    "nameTask : string\n",
    "    qsub name task\n",
    "\"\"\"\n",
    "```\n",
    "Output File\n",
    "```bash\n",
    "\"\"\"\n",
    "    Deduplicated bam file will be store in $outPutBamFile\n",
    "\"\"\"\n",
    "```"
   ]
  },
  {
   "cell_type": "code",
   "execution_count": 10,
   "metadata": {
    "ExecuteTime": {
     "end_time": "2020-05-17T16:50:54.769372Z",
     "start_time": "2020-05-17T16:50:54.738636Z"
    }
   },
   "outputs": [
    {
     "name": "stdout",
     "output_type": "stream",
     "text": [
      "Deduplication Ribo TIS\n",
      "Deduplication Ribo Elong\n"
     ]
    }
   ],
   "source": [
    "%%bash\n",
    "\n",
    "echo 'Deduplication Ribo TIS'\n",
    "saveOutputQsub='.../qsub_outputs'\n",
    "logPath='.../logs'\n",
    "entry='.../Data_Preparation/Ribo_Seq_Data/Alignment_Reads_Genome/Ribo/TIS/'\n",
    "outPutBamFile='.../Data_Preparation/Ribo_Seq_Data/Alignment_Reads_Genome/Ribo/TIS/...DD.bam'\n",
    "outPutFolder='.../Data_Preparation/Ribo_Seq_Data/Alignment_Reads_Genome/Ribo/TIS/'\n",
    "nameTask='Deduplication_Ribo_TIS'\n",
    "\n",
    "sh ../../../Scripts/1_Data_Preparation/Ribo_seq/Alignment/deduplication.sh $entry $outPutBamFile $outPutFolder $nameTask $saveOutputQsub $logPath\n",
    "\n",
    "echo 'Deduplication Ribo Elong'\n",
    "\n",
    "saveOutputQsub='.../qsub_outputs'\n",
    "logPath='.../logs'\n",
    "entry='.../Data_Preparation/Ribo_Seq_Data/Alignment_Reads_Genome/Ribo/Elong/'\n",
    "outPutBamFile='.../Data_Preparation/Ribo_Seq_Data/Alignment_Reads_Genome/Ribo/Elong/...DD.bam'\n",
    "outPutFolder='.../Data_Preparation/Ribo_Seq_Data/Alignment_Reads_Genome/Ribo/Elong/'\n",
    "nameTask='Deduplication_Ribo_Elong'\n",
    "\n",
    "sh ../../../Scripts/1_Data_Preparation/Ribo_seq/Alignment/deduplication.sh $entry $outPutBamFile $outPutFolder $nameTask $saveOutputQsub $logPath\n",
    "\n"
   ]
  },
  {
   "cell_type": "markdown",
   "metadata": {},
   "source": [
    "## Index Bam File"
   ]
  },
  {
   "cell_type": "markdown",
   "metadata": {
    "ExecuteTime": {
     "end_time": "2020-07-15T18:40:15.412301Z",
     "start_time": "2020-07-15T18:40:15.397199Z"
    }
   },
   "source": [
    "Input Files\n",
    "```bash\n",
    "\"\"\"\n",
    "inputFile : path \n",
    "    Path to file that contain the BAM File\n",
    "outputFile : path \n",
    "    Path where output index will be store\n",
    "nameTask : string\n",
    "    qsub name task \n",
    "saveOutputQsub : path\n",
    "    Paht to save qsub output \n",
    "logPath : path\n",
    "    Path to save log output \n",
    "\"\"\"\n",
    "```\n",
    "Output File\n",
    "```bash\n",
    "\"\"\"\n",
    "    bai index will be store in $outputFile\n",
    "\"\"\"\n",
    "```"
   ]
  },
  {
   "cell_type": "code",
   "execution_count": 11,
   "metadata": {
    "ExecuteTime": {
     "end_time": "2020-05-17T16:53:11.653412Z",
     "start_time": "2020-05-17T16:53:11.621444Z"
    }
   },
   "outputs": [
    {
     "name": "stdout",
     "output_type": "stream",
     "text": [
      "Index For Bam File Ribo Tis\n",
      "Index For Bam File Ribo Elong\n"
     ]
    }
   ],
   "source": [
    "%%bash\n",
    "\n",
    "echo 'Index For Bam File Ribo Tis'\n",
    "inputFile='.../Data_Preparation/Ribo_Seq_Data/Alignment_Reads_Genome/Ribo/TIS/...DD.bam'\n",
    "outputFile='.../Data_Preparation/Ribo_Seq_Data/Alignment_Reads_Genome/Ribo/TIS/...DD.bai'\n",
    "nameTask='IndexForBAMFile_RiboTis'\n",
    "saveOutputQsub='.../qsub_outputs'\n",
    "logPath='.../logs'\n",
    "\n",
    "sh ../../../Scripts/1_Data_Preparation/Ribo_seq/Alignment/creationIndexBamFile.sh $inputFile $outputFile $nameTask $saveOutputQsub $logPath\n",
    "\n",
    "echo 'Index For Bam File Ribo Elong'\n",
    "inputFile='.../Data_Preparation/Ribo_Seq_Data/Alignment_Reads_Genome/Ribo/Elong/...DD.bam'\n",
    "outputFile='.../Data_Preparation/Ribo_Seq_Data/Alignment_Reads_Genome/Ribo/Elong/...DD.bai'\n",
    "nameTask='IndexForBAMFile_RiboElongation'\n",
    "saveOutputQsub='.../qsub_outputs'\n",
    "logPath='.../logs'\n",
    "\n",
    "sh ../../../Scripts/1_Data_Preparation/Ribo_seq/Alignment/creationIndexBamFile.sh $inputFile $outputFile $nameTask $saveOutputQsub $logPath\n"
   ]
  }
 ],
 "metadata": {
  "kernelspec": {
   "display_name": "Python 2",
   "language": "python",
   "name": "python2"
  },
  "language_info": {
   "codemirror_mode": {
    "name": "ipython",
    "version": 2
   },
   "file_extension": ".py",
   "mimetype": "text/x-python",
   "name": "python",
   "nbconvert_exporter": "python",
   "pygments_lexer": "ipython2",
   "version": "2.7.5"
  },
  "latex_envs": {
   "LaTeX_envs_menu_present": true,
   "autoclose": false,
   "autocomplete": true,
   "bibliofile": "biblio.bib",
   "cite_by": "apalike",
   "current_citInitial": 1,
   "eqLabelWithNumbers": true,
   "eqNumInitial": 1,
   "hotkeys": {
    "equation": "Ctrl-E",
    "itemize": "Ctrl-I"
   },
   "labels_anchors": false,
   "latex_user_defs": false,
   "report_style_numbering": false,
   "user_envs_cfg": false
  },
  "toc": {
   "base_numbering": 1,
   "nav_menu": {},
   "number_sections": true,
   "sideBar": true,
   "skip_h1_title": false,
   "title_cell": "Table of Contents",
   "title_sidebar": "Contents",
   "toc_cell": false,
   "toc_position": {
    "height": "calc(100% - 180px)",
    "left": "10px",
    "top": "150px",
    "width": "274px"
   },
   "toc_section_display": true,
   "toc_window_display": true
  }
 },
 "nbformat": 4,
 "nbformat_minor": 2
}
