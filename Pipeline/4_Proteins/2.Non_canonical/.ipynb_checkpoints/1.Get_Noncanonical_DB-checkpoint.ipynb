{
 "cells": [
  {
   "cell_type": "markdown",
   "metadata": {},
   "source": [
    "# Get Proteins Sequences"
   ]
  },
  {
   "cell_type": "markdown",
   "metadata": {},
   "source": [
    "<b>In silico translation:</b> to generate a sample-specific database, each transcript (from RNA-seq or Ribosome Profile Elongation) was translated from the frame dictated by the coupled start codon until the first in-frame stop codon. Any protein sequence longer or equal to 8 AA was retained. Any protein sequence nested in a larger sequence was not added to the database. However, we keep track of all information about proteins (i.e., which proteins were added to the database and which were not), as we use it to assign the most likely origin of each peptide. To avoid combinatorial explosion, we translated the transcripts containing the IUPAC symbols, the complete protein sequence once, and translated small sequences around the locations of the IUPAC symbols (20 ntd in the flaking regions of the SNPs)."
   ]
  },
  {
   "cell_type": "markdown",
   "metadata": {
    "ExecuteTime": {
     "end_time": "2020-07-15T21:40:22.829762Z",
     "start_time": "2020-07-15T21:40:22.605525Z"
    }
   },
   "source": [
    "Input Files\n",
    "```python\n",
    "\"\"\"\n",
    "logPath : path\n",
    "    Path to save log output \n",
    "strand : string\n",
    "    Either '+' forward or '-' backward\n",
    "transcripts1 : path\n",
    "    Path to dic that contains the information of RNA assembled transcripts intercepted by candidates start codons\n",
    "genes1 : path\n",
    "    Path to dic that contains the information of RNA assembled genes intercepted by candidates start codons\n",
    "\n",
    "transcripts2 : path\n",
    "    Path to dic that contains the information of Ribo-Elong assembled transcripts intercepted by candidates start codons\n",
    "genes2 : path\n",
    "    Path to dic that contains the information of Ribo-Elong assembled genes intercepted by candidates start codons\n",
    "\n",
    "folderToSave : path\n",
    "    Path to save output \n",
    "\"\"\"\n",
    "```\n",
    "Output Files\n",
    "```python\n",
    "\"\"\"\n",
    "Proteins_Candidates_Canonical_+.dic or Proteins_Candidates_Canonical_-.dic : dic\n",
    "   Dic that contain all the proteins that were retained to include into the db\n",
    "\n",
    "Start_Codons_Retained_+.dic or Start_Codons_Retained_-.dic :  dic\n",
    "   Dic that contain the information of the start codons of the proteins that will be included in the db\n",
    "\n",
    "Info_Proteins_Kept+.gtf or Info_Proteins_Kept-.gtf : gtf-like file\n",
    "    gtf files that contain all the relevant information of the proteins that will be include in the db \n",
    "\"\"\"\n",
    "```"
   ]
  },
  {
   "cell_type": "code",
   "execution_count": 1,
   "metadata": {},
   "outputs": [
    {
     "name": "stdout",
     "output_type": "stream",
     "text": [
      "Proteins Strand + \n",
      "Proteins Strand - \n"
     ]
    }
   ],
   "source": [
    "%%bash\n",
    "\n",
    "echo 'Proteins Strand + '\n",
    "logPath='.../logs/'\n",
    "\n",
    "strand='+'\n",
    "transcripts1='.../Transcripts/Noncanonical/RNA/totalTranscriptsIntersected+.dic'\n",
    "genes1='.../Tanscripts/Noncanonical/RNA/totalGenesIntersected+.dic'\n",
    "transcripts2='.../Transcripts/Noncanonical/RiboElong/totalTranscriptsIntersected+.dic'\n",
    "genes2='.../Transcripts/Noncanonical/RiboElong/totalGenesIntersected+.dic'\n",
    "folderToSave='.../Proteins/Non_canonical/DB/'\n",
    "\n",
    "python ../../../Scripts/5_Get_Proteins/Noncanonical_Proteins/getProteinsSequences.py -s $strand -t $transcripts1 -g $genes1 -x $transcripts2 -y $genes2 -f $folderToSave -l $logPath\n",
    "\n",
    "echo 'Proteins Strand - '\n",
    "strand='-'\n",
    "transcripts1='.../Transcripts/Noncanonical/RNA/totalTranscriptsIntersected-.dic'\n",
    "genes1='.../Transcripts/Noncanonical/RNA/totalGenesIntersected-.dic'\n",
    "transcripts2='.../Transcripts/Noncanonical/RiboElong/totalTranscriptsIntersected-.dic'\n",
    "genes2='.../Transcripts/Noncanonical/RiboElong/totalGenesIntersected-.dic'\n",
    "\n",
    "python ../../../Scripts/5_Get_Proteins/Noncanonical_Proteins/getProteinsSequences.py -s $strand -t $transcripts1 -g $genes1 -x $transcripts2 -y $genes2 -f $folderToSave -l $logPath\n"
   ]
  },
  {
   "cell_type": "markdown",
   "metadata": {},
   "source": [
    "# Get Non Canonical DB"
   ]
  },
  {
   "cell_type": "markdown",
   "metadata": {
    "ExecuteTime": {
     "end_time": "2020-07-15T21:43:19.360142Z",
     "start_time": "2020-07-15T21:43:19.273645Z"
    }
   },
   "source": [
    "Input Files\n",
    "\n",
    "```python\n",
    "\"\"\"\n",
    "logPath : path\n",
    "    Path to save log output\n",
    "forward : path \n",
    "    Path to dic that contain the information of the retained proteins in the forward strand (see above) \n",
    "backward : path \n",
    "    Path to dic that contain the information of the retained proteins in the backward strand (see above)\n",
    "output : path \n",
    "    Path to save output\n",
    "    \n",
    "getNonCanonical : boolean\n",
    "    True to generate the non canonical db\n",
    "\"\"\"\n",
    "```\n",
    "\n",
    "Output Files\n",
    "\n",
    "```python\n",
    "\"\"\"\n",
    "1_proteinesUniques.info : dic\n",
    "    Dic that contains the information of all the non canonical proteins to be included in the db. (Forward and Backward strand)\n",
    "\n",
    "Custom_DB_Total.fasta : fasta file\n",
    "    Fasta file for the retained non canonical proteins\n",
    "\n",
    "StartCodonsOrigin_DB.list : list\n",
    "    List of the frequencies of Start codons\n",
    "\"\"\"\n",
    "```"
   ]
  },
  {
   "cell_type": "code",
   "execution_count": 1,
   "metadata": {
    "ExecuteTime": {
     "end_time": "2020-06-24T16:48:06.788011Z",
     "start_time": "2020-06-24T16:48:06.753171Z"
    }
   },
   "outputs": [
    {
     "name": "stdout",
     "output_type": "stream",
     "text": [
      "Getting Non Canonical\n"
     ]
    }
   ],
   "source": [
    "%%bash\n",
    "\n",
    "echo 'Getting Non Canonical'\n",
    "logPath='.../logs/'\n",
    "forward='.../Proteins/Non_canonical/DB/ProteinsCandidates_+.dic'\n",
    "backward='.../Proteins/Non_canonical/DB/ProteinsCandidates_-.dic'\n",
    "output='.../Proteins/Non_canonical/DB/'\n",
    "getNonCanonical=True\n",
    "\n",
    "python ../../../Scripts/5_Get_Proteins/Noncanonical_Proteins/getUniqueSequences.py -a $getNonCanonical -f $forward -b $backward -o $output -l $logPath\n"
   ]
  },
  {
   "cell_type": "code",
   "execution_count": null,
   "metadata": {},
   "outputs": [],
   "source": []
  }
 ],
 "metadata": {
  "kernelspec": {
   "display_name": "Python 2",
   "language": "python",
   "name": "python2"
  },
  "language_info": {
   "codemirror_mode": {
    "name": "ipython",
    "version": 2
   },
   "file_extension": ".py",
   "mimetype": "text/x-python",
   "name": "python",
   "nbconvert_exporter": "python",
   "pygments_lexer": "ipython2",
   "version": "2.7.5"
  },
  "latex_envs": {
   "LaTeX_envs_menu_present": true,
   "autoclose": false,
   "autocomplete": true,
   "bibliofile": "biblio.bib",
   "cite_by": "apalike",
   "current_citInitial": 1,
   "eqLabelWithNumbers": true,
   "eqNumInitial": 1,
   "hotkeys": {
    "equation": "Ctrl-E",
    "itemize": "Ctrl-I"
   },
   "labels_anchors": false,
   "latex_user_defs": false,
   "report_style_numbering": false,
   "user_envs_cfg": false
  },
  "toc": {
   "base_numbering": 1,
   "nav_menu": {},
   "number_sections": true,
   "sideBar": true,
   "skip_h1_title": false,
   "title_cell": "Table of Contents",
   "title_sidebar": "Contents",
   "toc_cell": false,
   "toc_position": {},
   "toc_section_display": true,
   "toc_window_display": true
  }
 },
 "nbformat": 4,
 "nbformat_minor": 2
}
