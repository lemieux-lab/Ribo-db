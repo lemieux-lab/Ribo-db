{
 "cells": [
  {
   "cell_type": "markdown",
   "metadata": {},
   "source": [
    "# Get Concatenation Canonical and Non Canonical DB"
   ]
  },
  {
   "cell_type": "markdown",
   "metadata": {},
   "source": [
    "To generate a single DB, concatenating canonical and non canonical db"
   ]
  },
  {
   "cell_type": "markdown",
   "metadata": {
    "ExecuteTime": {
     "end_time": "2020-07-15T21:47:27.359483Z",
     "start_time": "2020-07-15T21:47:27.132409Z"
    }
   },
   "source": [
    "Input Files\n",
    "\n",
    "```python\n",
    "\"\"\"\n",
    "logPath : path\n",
    "    Path to save log output\n",
    "canonical : path \n",
    "    Path to canonical fasta db generated at 0.Get_Canonical_DB step\n",
    "forward : path \n",
    "    Path to dic that contain the information of the retained proteins in the forward strand (see above) \n",
    "backward : path \n",
    "    Path to dic that contain the information of the retained proteins in the backward strand (see above)\n",
    "output : path \n",
    "    Path to save output\n",
    "    \n",
    "concatenation : boolean\n",
    "    True to concatenate canonical and non canonical dbs\n",
    "\"\"\"\n",
    "```\n",
    "Output Files\n",
    "```python\n",
    "\"\"\"\n",
    "Custom_DB_Total.fasta : fasta file\n",
    "    Fasta file for the retained non canonical proteins\n",
    "\n",
    "StartCodonsOrigin_DB.list : list\n",
    "    List of the frequencies of Start codons\n",
    "\"\"\"\n",
    "```"
   ]
  },
  {
   "cell_type": "code",
   "execution_count": 1,
   "metadata": {
    "ExecuteTime": {
     "end_time": "2020-06-24T16:51:54.173872Z",
     "start_time": "2020-06-24T16:51:54.130903Z"
    }
   },
   "outputs": [
    {
     "name": "stdout",
     "output_type": "stream",
     "text": [
      "Getting Concatenation Canonical and Noncanonical\n"
     ]
    }
   ],
   "source": [
    "%%bash\n",
    "\n",
    "echo 'Getting Concatenation Canonical and Noncanonical'\n",
    "logPath='.../logs/'\n",
    "canonical='.../Proteins/Canonical/DB/Custom_DB_Total.fasta'\n",
    "forward='.../Proteins/Non_canonical/DB/ProteinesCandidates_+.dic'\n",
    "backward='.../Proteins/Non_canonical/DB/ProteinesCandidates_-.dic'\n",
    "output='.../Proteins/Non_canonical/DB/'\n",
    "concatenation=True\n",
    "\n",
    "python /u/ruizma/PIPELINE/Scripts/DataPreparation/PythonScripts/11_GetTranscriptsInformation/0_Get_Proteins_Sequences/Non_canonical/getDB/getUniqueSequences.py -c $canonical -u $concatenation -f $forward -b $backward -o $output -l $logPath\n"
   ]
  },
  {
   "cell_type": "code",
   "execution_count": null,
   "metadata": {},
   "outputs": [],
   "source": []
  }
 ],
 "metadata": {
  "kernelspec": {
   "display_name": "Python 2",
   "language": "python",
   "name": "python2"
  },
  "language_info": {
   "codemirror_mode": {
    "name": "ipython",
    "version": 2
   },
   "file_extension": ".py",
   "mimetype": "text/x-python",
   "name": "python",
   "nbconvert_exporter": "python",
   "pygments_lexer": "ipython2",
   "version": "2.7.5"
  },
  "latex_envs": {
   "LaTeX_envs_menu_present": true,
   "autoclose": false,
   "autocomplete": true,
   "bibliofile": "biblio.bib",
   "cite_by": "apalike",
   "current_citInitial": 1,
   "eqLabelWithNumbers": true,
   "eqNumInitial": 1,
   "hotkeys": {
    "equation": "Ctrl-E",
    "itemize": "Ctrl-I"
   },
   "labels_anchors": false,
   "latex_user_defs": false,
   "report_style_numbering": false,
   "user_envs_cfg": false
  },
  "toc": {
   "base_numbering": 1,
   "nav_menu": {},
   "number_sections": true,
   "sideBar": true,
   "skip_h1_title": false,
   "title_cell": "Table of Contents",
   "title_sidebar": "Contents",
   "toc_cell": false,
   "toc_position": {},
   "toc_section_display": true,
   "toc_window_display": true
  }
 },
 "nbformat": 4,
 "nbformat_minor": 2
}
