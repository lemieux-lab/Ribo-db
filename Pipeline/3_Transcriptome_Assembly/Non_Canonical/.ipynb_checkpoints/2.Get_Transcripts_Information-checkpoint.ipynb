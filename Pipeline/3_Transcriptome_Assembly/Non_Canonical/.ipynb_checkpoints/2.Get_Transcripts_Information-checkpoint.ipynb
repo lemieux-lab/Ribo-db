{
 "cells": [
  {
   "cell_type": "markdown",
   "metadata": {},
   "source": [
    "# Get Non-Canonical Transcripts Sequences : RNA intersected transcripts"
   ]
  },
  {
   "cell_type": "markdown",
   "metadata": {},
   "source": [
    "Get the information of exons-CDS for all the non-canonical transcripts that were coupled with a candidate start codon.\n",
    "\n",
    "The high-quality sample-specific SNPs identified (freeBayes quality > 20), were then inserted at their correct position into the intersected transcripts. When there was ambiguity for a given position, the integration was done through the corresponded IUPAC symbol."
   ]
  },
  {
   "cell_type": "markdown",
   "metadata": {},
   "source": [
    "Input Files\n",
    "```bash\n",
    "\"\"\"\n",
    "logPath : path\n",
    "    Path to save log output\n",
    "saveOutputQsub : path\n",
    "    Path to save qsub output\n",
    "nameTask : string\n",
    "    qsub name task \n",
    "strand : string\n",
    "    Either '+' forward or '-' backward\n",
    "mergedAssembledTranscripts : path\n",
    "    Path to the assembled transcripts either RNA_AssembledTranscripts+.gtf RNA_AssembledTranscripts-.gtf\n",
    "freeByesSNPs : path\n",
    "    Path to the file from freebayes (output.var.5X.pga)\n",
    "quality :int\n",
    "    Quality of the SVN (default:20)\n",
    "bedIntersected : path\n",
    "    Paht to either Intersection_BedFileForward_Candidates_StartCodons_RNA or Intersection_BedFileBackward_Candidates_StartCodons_RNA bed files\n",
    "output : path\n",
    "    Path to save outputs\n",
    "genome : path\n",
    "    Path to genome fasta\n",
    "genomeFai : path\n",
    "    Path to genome index\n",
    "\n",
    "sCAfterThreshold : path \n",
    "    Path to dic for the start codons after the threshold has been applied from the ROC courve - generated from the TIS calling step\n",
    "\n",
    "starts_annotated :  path\n",
    "    Paht to Bed file with the start codons intercepted in the Forward strand either Known_SC_Intercepted_Forward or Known_SC_Intercepted_Backward \n",
    "\"\"\"\n",
    "```\n",
    "\n",
    "Output Files\n",
    "```bash\n",
    "\"\"\"\n",
    "    Total_Transcripts_Intersected_Canonical_+.dic or Total_Transcripts_Intersected_Canonical_-.dic : dic\n",
    "        Dic that containt for each non canonical transcript its information (CDS, start codon position, scoreTis)\n",
    "    \n",
    "    InfoTranscriptsIntersected+.gtf or InfoTranscriptsIntersected+.gtf \n",
    "        gtfs files that contain the same information above mentioned in format gtf\n",
    "    \n",
    "    InfoTranscriptsNotIntersected-.gtf or InfoTranscriptsNotIntersected+.gtf : gtf files\n",
    "        gtfs files that contain the transcripts that were not intercepted by the candidate start codons\n",
    "    \n",
    "    totalGenesIntersected+.dic or totalGenesIntersected-.dic : dic\n",
    "        Dic that contains for each non canonical transcript the name of the genes according to stringTie  \n",
    "\"\"\"\n",
    "```"
   ]
  },
  {
   "cell_type": "code",
   "execution_count": 1,
   "metadata": {
    "ExecuteTime": {
     "end_time": "2020-06-24T15:23:51.424168Z",
     "start_time": "2020-06-24T15:23:51.142206Z"
    }
   },
   "outputs": [
    {
     "name": "stdout",
     "output_type": "stream",
     "text": [
      "Proteins Strand + \n",
      "Proteins Strand - \n"
     ]
    }
   ],
   "source": [
    "%%bash\n",
    "module add torque \n",
    "\n",
    "logPath='.../logs'\n",
    "saveOutputQsub='.../qsub_outputs'\n",
    "\n",
    "echo 'Proteins Strand + '\n",
    "nameTask='Get_Transcripts_Strand+'\n",
    "strand='+'\n",
    "mergedAssembledTranscripts='.../StringTieAssemblies/RNA/RNA_AssembledTranscripts+.gtf'\n",
    "freeByesSNPs='.../FreeBayes/output.var.5X.pga'\n",
    "quality=20\n",
    "bedIntersected='.../Transcripts/Noncanonical/Intersection_BedFileForward_Candidates_StartCodons_RNA.bed'\n",
    "output='.../Transcripts/Noncanonical/RNA/'\n",
    "genome='../../../Data_Input_Scripts/GRCh38_Gencode26/GRCh38.primary_assembly.genome.fa'\n",
    "genomeFai='../../../Data_Input_Scripts/GRCh38_Gencode26/GRCh38.primary_assembly.genome.fa.fai'\n",
    "sCAfterThreshold='.../StartCodonsDetection/StartCodonsAfterThreshold.dic'\n",
    "starts_annotated='.../StartCodonsDetection/Known_SC_Intercepted_Forward.bed'\n",
    "\n",
    "echo \"python ../../../Scripts/4_Get_Active_Transcripts/Noncanonical-Proteins/getInfoTranscripts.py -s $strand -t $mergedAssembledTranscripts -n $freeByesSNPs -q $quality -b $bedIntersected -o $output -f $genome -i $genomeFai -d $sCAfterThreshold -l $logPath -k $starts_annotated\" | qsub -V -l nodes=1:ppn=10,mem=150gb,walltime=48:00:00 -j oe -N $nameTask -d $saveOutputQsub\n",
    "\n",
    "echo 'Proteins Strand - '\n",
    "nameTask='Get_Transcripts_Strand-'\n",
    "strand='-'\n",
    "mergedAssembledTranscripts='.../StringTieAssemblies/RNA/RNA_AssembledTranscripts-.gtf'\n",
    "bedIntersected='.../Transcripts/Noncanonical/Intersection_BedFileBackward_Candidates_StartCodons_RNA.bed'\n",
    "starts_annotated='.../StartCodonsDetection/Known_SC_Intercepted_Backward.bed'\n",
    "\n",
    "echo \"python ../../../Scripts/4_Get_Active_Transcripts/Noncanonical-Proteins/getInfoTranscripts.py -s $strand -t $mergedAssembledTranscripts -n $freeByesSNPs -q $quality -b $bedIntersected -o $output -f $genome -i $genomeFai -d $sCAfterThreshold -l $logPath -k $starts_annotated\" | qsub -V -l nodes=1:ppn=10,mem=150gb,walltime=48:00:00 -j oe -N $nameTask -d $saveOutputQsub\n"
   ]
  },
  {
   "cell_type": "markdown",
   "metadata": {},
   "source": [
    "# Get Non-Canonical Transcripts Sequences : Ribo-Elong intersected transcripts"
   ]
  },
  {
   "cell_type": "markdown",
   "metadata": {
    "ExecuteTime": {
     "end_time": "2020-07-15T20:51:13.951791Z",
     "start_time": "2020-07-15T20:51:13.932031Z"
    }
   },
   "source": [
    "Input Files\n",
    "```bash\n",
    "\"\"\"\n",
    "logPath : path\n",
    "    Path to save log output\n",
    "saveOutputQsub : path\n",
    "    Path to save qsub output\n",
    "nameTask : string\n",
    "    qsub name task \n",
    "strand : string\n",
    "    Either '+' forward or '-' backward\n",
    "mergedAssembledTranscripts : path\n",
    "    Path to the assembled transcripts either RiboElong_AssembledTranscripts+.gtf RiboElong_AssembledTranscripts-.gtf\n",
    "freeByesSNPs : path\n",
    "    Path to the file from freebayes (output.var.5X.pga)\n",
    "quality :int\n",
    "    Quality of the SVN (default:20)\n",
    "bedIntersected : path\n",
    "    Paht to either Intersection_BedFileForward_Candidates_StartCodons_Elong or Intersection_BedFileBackward_Candidates_StartCodons_Elong bed files\n",
    "output : path\n",
    "    Path to save output\n",
    "genome : path\n",
    "    Path to genome fasta\n",
    "genomeFai : path\n",
    "    Path to genome index\n",
    "\n",
    "sCAfterThreshold : path \n",
    "    Path to dic for the start codons after the threshold has been applied from the ROC courve - generated from the TIS calling step\n",
    "\n",
    "starts_annotated :  path\n",
    "    Paht to Bed file with the start codons intercepted in the Forward strand either Known_SC_Intercepted_Forward or Known_SC_Intercepted_Backward \n",
    "\"\"\"\n",
    "```\n",
    "\n",
    "Output Files\n",
    "```bash\n",
    "\"\"\"\n",
    "    Total_Transcripts_Intersected_Canonical_+.dic or Total_Transcripts_Intersected_Canonical_-.dic : dic\n",
    "        Dic that containt for each non canonical transcript its information (CDS, start codon position, scoreTis)\n",
    "    \n",
    "    InfoTranscriptsIntersected+.gtf or InfoTranscriptsIntersected+.gtf \n",
    "        gtfs files that contain the same information above mentioned in format gtf\n",
    "    \n",
    "    InfoTranscriptsNotIntersected-.gtf or InfoTranscriptsNotIntersected+.gtf : gtf files\n",
    "        gtfs files that contain the transcripts that were not intercepted by the candidate start codons\n",
    "    \n",
    "    totalGenesIntersected+.dic or totalGenesIntersected-.dic : dic\n",
    "        Dic that contains for each non canonical transcript the name of the genes according to stringTie  \n",
    "\"\"\"\n",
    "```"
   ]
  },
  {
   "cell_type": "code",
   "execution_count": 2,
   "metadata": {
    "ExecuteTime": {
     "end_time": "2020-06-24T15:28:12.210343Z",
     "start_time": "2020-06-24T15:28:12.145809Z"
    }
   },
   "outputs": [
    {
     "name": "stdout",
     "output_type": "stream",
     "text": [
      "Proteins Strand + \n",
      "Proteins Strand - \n"
     ]
    }
   ],
   "source": [
    "%%bash\n",
    "\n",
    "module add torque \n",
    "\n",
    "logPath='.../logs'\n",
    "saveOutputQsub='.../qsub_outputs'\n",
    "\n",
    "echo 'Proteins Strand + '\n",
    "nameTask='Get_Transcripts_Strand+'\n",
    "strand='+'\n",
    "mergedAssembledTranscripts='.../StringTieAssemblies/RiboElong/RiboElong_AssembledTranscripts+.gtf'\n",
    "freeByesSNPs='.../FreeBayes/output.var.5X.pga'\n",
    "quality=20\n",
    "bedIntersected='.../Transcripts/Noncanonical/Intersection_BedFileForward_Candidates_StartCodons_Elong.bed'\n",
    "output='.../Transcripts/Noncanonical/RiboElong/'\n",
    "genome='../../../Data_Input_Scripts/GRCh38_Gencode26/GRCh38.primary_assembly.genome.fa'\n",
    "genomeFai='../../../Data_Input_Scripts/GRCh38_Gencode26/GRCh38.primary_assembly.genome.fa.fai'\n",
    "sCAfterThreshold='.../StartCodonsDetection/StartCodonsAfterThreshold.dic'\n",
    "starts_annotated='.../StartCodonsDetection/Known_SC_Intercepted_Forward.bed'\n",
    "\n",
    "echo \"python ../../../Scripts/4_Get_Active_Transcripts/Noncanonical-Proteins/getInfoTranscripts.py -s $strand -t $mergedAssembledTranscripts -n $freeByesSNPs -q $quality -b $bedIntersected -o $output -f $genome -i $genomeFai -d $sCAfterThreshold -l $logPath -k $starts_annotated\" | qsub -V -l nodes=1:ppn=10,mem=150gb,walltime=48:00:00 -j oe -N $nameTask -d $saveOutputQsub\n",
    "\n",
    "echo 'Proteins Strand - '\n",
    "nameTask='Get_Transcripts_Strand-'\n",
    "strand='-'\n",
    "mergedAssembledTranscripts='.../StringTieAssemblies/RiboElong/RiboElong_AssembledTranscripts-.gtf'\n",
    "bedIntersected='.../Transcripts/Noncanonical/Intersection_BedFileBackward_Candidates_StartCodons_Elong.bed'\n",
    "starts_annotated='.../StartCodonsDetection/Known_SC_Intercepted_Backward.bed'\n",
    "\n",
    "echo \"python ../../../Scripts/4_Get_Active_Transcripts/Noncanonical-Proteins/getInfoTranscripts.py -s $strand -t $mergedAssembledTranscripts -n $freeByesSNPs -q $quality -b $bedIntersected -o $output -f $genome -i $genomeFai -d $sCAfterThreshold -l $logPath -k $starts_annotated\" | qsub -V -l nodes=1:ppn=10,mem=150gb,walltime=48:00:00 -j oe -N $nameTask -d $saveOutputQsub"
   ]
  },
  {
   "cell_type": "code",
   "execution_count": null,
   "metadata": {},
   "outputs": [],
   "source": []
  }
 ],
 "metadata": {
  "kernelspec": {
   "display_name": "Python 2",
   "language": "python",
   "name": "python2"
  },
  "language_info": {
   "codemirror_mode": {
    "name": "ipython",
    "version": 2
   },
   "file_extension": ".py",
   "mimetype": "text/x-python",
   "name": "python",
   "nbconvert_exporter": "python",
   "pygments_lexer": "ipython2",
   "version": "2.7.5"
  },
  "latex_envs": {
   "LaTeX_envs_menu_present": true,
   "autoclose": false,
   "autocomplete": true,
   "bibliofile": "biblio.bib",
   "cite_by": "apalike",
   "current_citInitial": 1,
   "eqLabelWithNumbers": true,
   "eqNumInitial": 1,
   "hotkeys": {
    "equation": "Ctrl-E",
    "itemize": "Ctrl-I"
   },
   "labels_anchors": false,
   "latex_user_defs": false,
   "report_style_numbering": false,
   "user_envs_cfg": false
  },
  "toc": {
   "base_numbering": 1,
   "nav_menu": {},
   "number_sections": true,
   "sideBar": true,
   "skip_h1_title": false,
   "title_cell": "Table of Contents",
   "title_sidebar": "Contents",
   "toc_cell": false,
   "toc_position": {},
   "toc_section_display": true,
   "toc_window_display": true
  }
 },
 "nbformat": 4,
 "nbformat_minor": 2
}
