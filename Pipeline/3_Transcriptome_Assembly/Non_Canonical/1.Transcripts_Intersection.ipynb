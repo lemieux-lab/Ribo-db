{
 "cells": [
  {
   "cell_type": "markdown",
   "metadata": {},
   "source": [
    "# Intersect BedFiles for Candidats StartCodons against RNA Transcriptome Assembled"
   ]
  },
  {
   "cell_type": "markdown",
   "metadata": {},
   "source": [
    "<b>Intersect:</b> to detect the set of actively translated ORFs, we use the intersection function of the BEDTools suite in the BED file with the genomic positions of the positives start codons as well as each of the gtf files reported by StringTie either transcriptome assemblies based on Ribosome profiling Elongation and RNA-seq. Therefore, start codons intersecting assembled transcripts (i.e., pairs (starts, transcripts)) were collected as they represent the active ORFs that will be translated in silico. From this, a canonical protein is defined as the protein translated from a known start codon coupled with its corresponding transcript, while a noncanonical protein is defined as the protein translated from unknown couplings."
   ]
  },
  {
   "cell_type": "markdown",
   "metadata": {},
   "source": [
    "Input Files\n",
    "```bash\n",
    "\"\"\"\n",
    "input : path\n",
    "    Path to the BedFileBackward/BedFileForward bed files that were generated at the TIS-calling step\n",
    "input2 : path\n",
    "    Path to the RNA_AssembledTranscriptsn-.gtf or RNA_AssembledTranscripts+.gtf generated in the StringTieAssemblies process\n",
    "output : path\n",
    "    Path to save the bed file result from the intersection function of BedTools \n",
    "nameTask : string\n",
    "    qsub name task \n",
    "saveOutputQsub : path\n",
    "    Path to save qsub output\n",
    "logPath : path\n",
    "    Path to sabe log output\n",
    "\"\"\"\n",
    "```\n",
    "Output Files\n",
    "```bash\n",
    "\"\"\"\n",
    "Intersection_BedFileBackward_Candidates_StartCodons_RNA or Intersection_BedFileForward_Candidates_StartCodons_RNA : bed-like files\n",
    "    Bed-like files with the assembled stringTie transcripts intersected by the start codons candidates identified in the sample\n",
    "\"\"\"\n",
    "```"
   ]
  },
  {
   "cell_type": "code",
   "execution_count": 1,
   "metadata": {
    "ExecuteTime": {
     "end_time": "2020-06-12T19:47:48.645824Z",
     "start_time": "2020-06-12T19:47:48.611929Z"
    }
   },
   "outputs": [
    {
     "name": "stdout",
     "output_type": "stream",
     "text": [
      "Intersection Backward\n",
      "Intersection Forward\n"
     ]
    }
   ],
   "source": [
    "%%bash\n",
    "\n",
    "echo 'Intersection Backward'\n",
    "input='.../StartCodonsDetection/BedFileBackward.bed'\n",
    "input2='.../StringTieAssemblies/RNA/RNA_AssembledTranscripts-.gtf'\n",
    "output='.../Transcripts/Noncanonical/Intersection_BedFileBackward_Candidates_StartCodons_RNA.bed'\n",
    "nameTask='IntersectBedtools_Backward_SCCandidates_RNA'\n",
    "saveOutputQsub='.../qsub_outputs'\n",
    "logPath='.../logs'\n",
    "\n",
    "sh ../../../Scripts/3_Trascriptome_Assembly/intersectSC_Assemblies.sh $input $input2 $output $nameTask $saveOutputQsub $logPath\n",
    "\n",
    "echo 'Intersection Forward'\n",
    "input='../StartCodonsDetection/BedFileForward.bed'\n",
    "input2='.../StringTieAssemblies/RNA/RNA_AssembledTranscripts+.gtf'\n",
    "output='.../Transcripts/Noncanonical/Intersection_BedFileForward_Candidates_StartCodons_RNA.bed'\n",
    "nameTask='IntersectBedtools_Forward_SCCandidates_RNA'\n",
    "\n",
    "sh ./../../Scripts/3_Trascriptome_Assembly/intersectSC_Assemblies.sh $input $input2 $output $nameTask $saveOutputQsub $logPath\n"
   ]
  },
  {
   "cell_type": "markdown",
   "metadata": {},
   "source": [
    "# Intersect BedFiles for Candidats StartCodons against Ribo-ELong Transcriptome Assembled"
   ]
  },
  {
   "cell_type": "markdown",
   "metadata": {
    "ExecuteTime": {
     "end_time": "2020-07-15T20:22:45.599648Z",
     "start_time": "2020-07-15T20:22:45.583371Z"
    }
   },
   "source": [
    "Input Files\n",
    "```bash\n",
    "\"\"\"\n",
    "input : path\n",
    "    Path to the BedFileBackward/BedFileForward bed files that were generated at the TIS-calling step\n",
    "input2 : path\n",
    "    Path to the RiboElong_AssembledTranscripts-.gtf or RiboElong_AssembledTranscripts+.gtf generated in the StringTieAssemblies process\n",
    "output : path\n",
    "    Path to save the bed file result from the intersection function of BedTools \n",
    "nameTask : string\n",
    "    qsub name task \n",
    "saveOutputQsub : path\n",
    "    Path to save qsub output\n",
    "logPath : path\n",
    "    Path to sabe log output\n",
    "\"\"\"\n",
    "```\n",
    "Output Files\n",
    "```bash\n",
    "\"\"\"\n",
    "    Intersection_BedFileBackward_Candidates_StartCodons_Elong or Intersection_BedFileForward_Candidates_StartCodons_Elong : bed-like files \n",
    "        Bed-like files with the assembled stringTie transcripts intersected by the start codons candidates identified in the sample\n",
    "\"\"\"\n",
    "```"
   ]
  },
  {
   "cell_type": "code",
   "execution_count": 2,
   "metadata": {
    "ExecuteTime": {
     "end_time": "2020-06-12T20:47:39.059482Z",
     "start_time": "2020-06-12T20:47:39.025149Z"
    }
   },
   "outputs": [
    {
     "name": "stdout",
     "output_type": "stream",
     "text": [
      "Intersection Backward\n",
      "Intersection Forward\n"
     ]
    }
   ],
   "source": [
    "%%bash\n",
    "\n",
    "echo 'Intersection Backward'\n",
    "input='.../StartCodonsDetection/BedFileBackward.bed'\n",
    "input2='.../StringTieAssemblies/RiboElong/RiboElong_AssembledTranscripts-.gtf'\n",
    "output='.../Transcripts/Noncanonical/Intersection_BedFileBackward_Candidates_StartCodons_Elong.bed'\n",
    "nameTask='IntersectBedtools_Backward_SCCandidates_Elong'\n",
    "saveOutputQsub='.../qsub_outputs'\n",
    "logPath='.../logs'\n",
    "\n",
    "sh ../../../Scripts/3_Trascriptome_Assembly/intersectSC_Assemblies.sh $input $input2 $output $nameTask $saveOutputQsub $logPath\n",
    "\n",
    "echo 'Intersection Forward'\n",
    "input='.../StartCodonsDetection/BedFileForward.bed'\n",
    "input2='.../StringTieAssemblies/RiboElong/RiboElong_AssembledTranscripts+.gtf'\n",
    "output='.../Transcripts/Noncanonical/Intersection_BedFileForward_Candidates_StartCodons_Elong.bed'\n",
    "nameTask='IntersectBedtools_Forward_SCCandidates_Elong'\n",
    "\n",
    "sh ../../../Scripts/3_Trascriptome_Assembly/intersectSC_Assemblies.sh $input $input2 $output $nameTask $saveOutputQsub $logPath\n"
   ]
  },
  {
   "cell_type": "code",
   "execution_count": null,
   "metadata": {},
   "outputs": [],
   "source": []
  }
 ],
 "metadata": {
  "kernelspec": {
   "display_name": "Python 2",
   "language": "python",
   "name": "python2"
  },
  "language_info": {
   "codemirror_mode": {
    "name": "ipython",
    "version": 2
   },
   "file_extension": ".py",
   "mimetype": "text/x-python",
   "name": "python",
   "nbconvert_exporter": "python",
   "pygments_lexer": "ipython2",
   "version": "2.7.5"
  },
  "latex_envs": {
   "LaTeX_envs_menu_present": true,
   "autoclose": false,
   "autocomplete": true,
   "bibliofile": "biblio.bib",
   "cite_by": "apalike",
   "current_citInitial": 1,
   "eqLabelWithNumbers": true,
   "eqNumInitial": 1,
   "hotkeys": {
    "equation": "Ctrl-E",
    "itemize": "Ctrl-I"
   },
   "labels_anchors": false,
   "latex_user_defs": false,
   "report_style_numbering": false,
   "user_envs_cfg": false
  },
  "toc": {
   "base_numbering": 1,
   "nav_menu": {},
   "number_sections": true,
   "sideBar": true,
   "skip_h1_title": false,
   "title_cell": "Table of Contents",
   "title_sidebar": "Contents",
   "toc_cell": false,
   "toc_position": {},
   "toc_section_display": true,
   "toc_window_display": true
  }
 },
 "nbformat": 4,
 "nbformat_minor": 2
}
