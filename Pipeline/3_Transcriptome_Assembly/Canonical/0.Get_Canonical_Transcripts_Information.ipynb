{
 "cells": [
  {
   "cell_type": "markdown",
   "metadata": {},
   "source": [
    "# Intersection annotated SC (canonical) with GTF Genome Annotation"
   ]
  },
  {
   "cell_type": "markdown",
   "metadata": {},
   "source": [
    "<b>Intersect:</b> to detect the set of actively translated ORFs, we use the intersection function of the BEDTools suite in the BED file with the genomic positions of the positives start codons as well as each of the gtf files reported by StringTie either transcriptome assemblies based on Ribosome profiling Elongation and RNA-seq. Therefore, start codons intersecting assembled transcripts (i.e., pairs (starts, transcripts)) were collected as they represent the active ORFs that will be translated in silico. From this, a canonical protein is defined as the protein translated from a known start codon coupled with its corresponding transcript, while a noncanonical protein is defined as the protein translated from unknown couplings."
   ]
  },
  {
   "cell_type": "markdown",
   "metadata": {},
   "source": [
    "Input Files\n",
    "```bash\n",
    "\"\"\"\n",
    "input : path\n",
    "    Path to the Known_SC_Intercepted_Backward/Known_SC_Intercepted_Forward bed files that were generated at the TIS-calling step\n",
    "input2 : path\n",
    "    Path to the gencode.v26.primary_assembly.annotation-.gtf or\n",
    "    gencode.v26.primary_assembly.annotation+.gtf\n",
    "output : path\n",
    "    Path to save the bed file result from the intersection function of BedTools \n",
    "nameTask : string\n",
    "    qsub name task \n",
    "saveOutputQsub : path\n",
    "    Path to save qsub output\n",
    "logPath : path\n",
    "    Path to sabe log output\n",
    "\"\"\"\n",
    "```\n",
    "Output Files\n",
    "```bash\n",
    "\"\"\"\n",
    "    Intersection_BedFileForward_KnownStartCodons or Intersection_BedFileBackward_KnownStartCodons : bed-like files\n",
    "        bed files with the transcripts intersected by the known start codons identified in the sample\n",
    "\"\"\"\n",
    "```"
   ]
  },
  {
   "cell_type": "code",
   "execution_count": 1,
   "metadata": {
    "ExecuteTime": {
     "end_time": "2020-06-11T17:36:42.660044Z",
     "start_time": "2020-06-11T17:36:42.622915Z"
    }
   },
   "outputs": [
    {
     "name": "stdout",
     "output_type": "stream",
     "text": [
      "Intersection Backward\n",
      "Intersection Forward\n"
     ]
    }
   ],
   "source": [
    "%%bash\n",
    "\n",
    "echo 'Intersection Backward'\n",
    "input='.../StartCodonsDetection/Known_SC_Intercepted_Backward.bed'\n",
    "input2='../../../Data_Input_Scripts/gencode.v26.primary_assembly.annotation-.gtf'\n",
    "output='.../Transcripts/Canonical/Intersection_BedFileBackward_KnownStartCodons.bed'\n",
    "nameTask='IntersectBedtools_Backward'\n",
    "saveOutputQsub='.../qsub_outputs'\n",
    "logPath='.../logs'\n",
    "\n",
    "sh ../../../Scripts/3_Trascriptome_Assembly/intersectSC_Assemblies.sh $input $input2 $output $nameTask $saveOutputQsub $logPath\n",
    "\n",
    "echo 'Intersection Forward'\n",
    "input='.../StartCodonsDetection/Known_SC_Intercepted_Forward.bed'\n",
    "input2='../../../Data_Input_Scripts/gencode.v26.primary_assembly.annotation+.gtf'\n",
    "output='.../Transcripts/Canonical/Intersection_BedFileForward_KnownStartCodons.bed'\n",
    "nameTask='IntersectBedtools_Forward'\n",
    "saveOutputQsub='.../qsub_outputs'\n",
    "logPath='.../logs'\n",
    "\n",
    "sh ../../../Scripts/3_Trascriptome_Assembly/intersectSC_Assemblies.sh $input $input2 $output $nameTask $saveOutputQsub $logPath\n"
   ]
  },
  {
   "cell_type": "markdown",
   "metadata": {},
   "source": [
    "Filtering intersected Bed Files to keep only those that are corresponding the start codon with the transcript associated !"
   ]
  },
  {
   "cell_type": "code",
   "execution_count": null,
   "metadata": {},
   "outputs": [],
   "source": [
    "def filterStartCodon_by_Transcript(intersectedFile, toSave):\n",
    "    toWrite = ''\n",
    "    transcripts_intersected = []\n",
    "    with open(intersectedFile) as f:\n",
    "        for index, startCodon in enumerate(f):  \n",
    "            splitLine = startCodon.strip().split('\\t')\n",
    "            transcript_sc = splitLine[4]\n",
    "            transcript_intersected = splitLine[14].split(\";\")[1].split(\"\\\"\")[1]\n",
    "            sc = splitLine[0]+':'+splitLine[1]+'-'+splitLine[2]+'-'+splitLine[3]\n",
    "            if transcript_sc == transcript_intersected:\n",
    "                transcripts_intersected.append(transcript_sc)\n",
    "                toWrite += startCodon\n",
    "    \n",
    "    print 'Total Transcripts intersected ', len(transcripts_intersected)\n",
    "    fileFiltered = open(toSave,\"w\") \n",
    "    fileFiltered.write(toWrite)\n",
    "    fileFiltered.close() "
   ]
  },
  {
   "cell_type": "code",
   "execution_count": null,
   "metadata": {
    "ExecuteTime": {
     "start_time": "2020-06-12T17:32:35.352Z"
    }
   },
   "outputs": [],
   "source": [
    "print 'Filtering Forward'\n",
    "\n",
    "intersectedFile = '.../Transcripts/Canonical/Intersection_BedFileBackward_KnowStartCodons.bed'\n",
    "toSave = '.../Transcripts/Canonical/Filtered_Intersection_BedFileBackward_KnowStartCodons.bed'\n",
    "\n",
    "filterStartCodon_by_Transcript(intersectedFile, toSave)\n",
    "\n",
    "print 'Filtering Backward'\n",
    "\n",
    "intersectedFile = '.../Transcripts/Canonical/Intersection_BedFileForward_KnowStartCodons.bed'\n",
    "toSave = '.../Transcripts/Canonical/Filtered_Intersection_BedFileForward_KnowStartCodons.bed'\n",
    "\n",
    "filterStartCodon_by_Transcript(intersectedFile, toSave)"
   ]
  },
  {
   "cell_type": "markdown",
   "metadata": {},
   "source": [
    "# Get Canonical TPM Information from RNA-assembled Transcripts"
   ]
  },
  {
   "cell_type": "markdown",
   "metadata": {
    "ExecuteTime": {
     "end_time": "2020-07-15T19:39:26.811685Z",
     "start_time": "2020-07-15T19:39:26.797863Z"
    }
   },
   "source": [
    "TPM values are obtained from the  assemblies transcripts of RNA-seq data generated by stringTie"
   ]
  },
  {
   "cell_type": "code",
   "execution_count": null,
   "metadata": {
    "ExecuteTime": {
     "start_time": "2020-06-12T18:07:26.584Z"
    }
   },
   "outputs": [],
   "source": [
    "import math\n",
    "import pickle\n",
    "\n",
    "tpm_dictionnary = {}\n",
    "gtf_only_transcripts='..../StringTieAssemblies/RNA/RNA_info_Transcripts.gtf'\n",
    "\n",
    "with open(gtf_only_transcripts) as f:\n",
    "    for index, line in enumerate(f):\n",
    "        tpm_sum += float(tpm)\n",
    "        if 'reference_id' in line:\n",
    "            transcript = line.strip().split(' reference_id ')[1].split('\\\"')[1]\n",
    "            tpm = line.strip().split(' TPM ')[1].split('\\\"')[1]\n",
    "            tpm_dictionnary[transcript] = math.log(float(tpm)+1,2)\n",
    "\n",
    "with open('.../StringTieAssemblies/RNA/tpm_canonical_transcripts.dic', 'wb') as fp:\n",
    "    pickle.dump(tpm_dictionnary, fp, protocol=pickle.HIGHEST_PROTOCOL)\n",
    "    "
   ]
  },
  {
   "cell_type": "markdown",
   "metadata": {},
   "source": [
    "# Get Canonical Transcripts Sequences"
   ]
  },
  {
   "attachments": {},
   "cell_type": "markdown",
   "metadata": {},
   "source": [
    "Get the information of exons-CDS for all the canonical transcripts that were coupled with their corresponding annotated start codon.\n",
    "\n",
    " The high-quality sample-specific SNPs identified (freeBayes quality > 20), were then inserted at their correct position into the intersected transcripts. When there was ambiguity for a given position, the integration was done through the corresponded IUPAC symbol."
   ]
  },
  {
   "cell_type": "markdown",
   "metadata": {},
   "source": [
    "Input Files\n",
    "```python\n",
    "\"\"\"\n",
    "logPath : path\n",
    "    Path to save log output='.../logs/'\n",
    "strand : string\n",
    "    Either '+' for forward or '-' for backward\n",
    "mergedAssembledTranscripts : path\n",
    "    Path to gtf file where the transcripts information will be gather. (Data_Input_Scripts/gencode.v26.primary_assembly.annotation.gtf)\n",
    "freeByesSNPs : path\n",
    "    Path to the file from freebayes (output.var.5X.pga)\n",
    "quality :int\n",
    "    Quality of the SVN (default:20)\n",
    "bedIntersected : path\n",
    "    Path to either Filtered_Intersection_BedFileForward_KnowStartCodons or Filtered_Intersection_BedFileBackward_KnowStartCodons bed files\n",
    "output : path\n",
    "    Path to save outputs\n",
    "\n",
    "genome : path\n",
    "    Path to genome fasta\n",
    "genomeFai : path\n",
    "    Path to genome index\n",
    "dicStartCodons : path\n",
    "    Path to dic Canonical_SC.dic which resumes the canonical start codons with their score generated at the TIS-calling step\n",
    "tpm_dictionary : path\n",
    "    Path to the tpm of the canonical transcripts (see above step)\n",
    "\"\"\"\n",
    "```\n",
    "Output Files\n",
    "\n",
    "```python\n",
    "\"\"\"\n",
    "Total_Transcripts_Intersected_Canonical_+.dic or Total_Transcripts_Intersected_Canonical_-.dic : dic\n",
    "    Dic that containts for each canonical transcript its information (CDS, start codon position, scoreTis)\n",
    "\n",
    "InfoTranscriptsIntersected+.gtf or InfoTranscriptsIntersected+.gtf \n",
    "    gtfs files that contains the same information above mentioned in format gtf\n",
    "\"\"\"\n",
    "```"
   ]
  },
  {
   "cell_type": "code",
   "execution_count": 3,
   "metadata": {},
   "outputs": [
    {
     "name": "stdout",
     "output_type": "stream",
     "text": [
      "Proteins Strand + \n",
      "Proteins Strand - \n"
     ]
    }
   ],
   "source": [
    "%%bash\n",
    "\n",
    "echo 'Transcripts Strand + '\n",
    "logPath='.../logs/'\n",
    "\n",
    "strand='+'\n",
    "mergedAssembledTranscripts='../../../Data_Input_Scripts/gencode.v26.primary_assembly.annotation.gtf'\n",
    "freeByesSNPs='.../FreeBayes/output.var.5X.pga'\n",
    "quality=20\n",
    "bedIntersected='.../Transcripts/Canonical/Filtered_Intersection_BedFileForward_KnowStartCodons.bed'\n",
    "output='.../Transcripts/Canonical/DB/'\n",
    "genome='../../../Data_Input_Scripts/GRCh38_Gencode26/GRCh38.primary_assembly.genome.fa'\n",
    "genomeFai='../../../Data_Input_Scripts/GRCh38_Gencode26/GRCh38.primary_assembly.genome.fa.fai'\n",
    "dicStartCodons='.../StartCodonsDetection/Canonical_SC.dic'\n",
    "tpm_dictionary='.../StringTieAssemblies/RNA/tpm_canonical_transcripts.dic'\n",
    "\n",
    "python ../../../Scripts/4_Get_Active_Transcripts/Canonical_Proteins/getInfoTranscripts.py -s $strand -d $dicStartCodons -t $mergedAssembledTranscripts -n $freeByesSNPs -q $quality -b $bedIntersected -o $output -f $genome -i $genomeFai -l $logPath -k $tpm_dictionnary\n",
    "\n",
    "echo 'Transcripts Strand - '\n",
    "strand='-'\n",
    "bedIntersected='.../Proteins/Transcripts/Filtered_Intersection_BedFileBackward_KnowStartCodons.bed'\n",
    "\n",
    "python ../../../Scripts/4_Get_Active_Transcripts/Canonical_Proteins/getInfoTranscripts.py -s $strand -d $dicStartCodons -t $mergedAssembledTranscripts -n $freeByesSNPs -q $quality -b $bedIntersected -o $output -f $genome -i $genomeFai -l $logPath -k $tpm_dictionnary\n",
    "\n"
   ]
  }
 ],
 "metadata": {
  "kernelspec": {
   "display_name": "Python 2",
   "language": "python",
   "name": "python2"
  },
  "language_info": {
   "codemirror_mode": {
    "name": "ipython",
    "version": 2
   },
   "file_extension": ".py",
   "mimetype": "text/x-python",
   "name": "python",
   "nbconvert_exporter": "python",
   "pygments_lexer": "ipython2",
   "version": "2.7.5"
  },
  "latex_envs": {
   "LaTeX_envs_menu_present": true,
   "autoclose": false,
   "autocomplete": true,
   "bibliofile": "biblio.bib",
   "cite_by": "apalike",
   "current_citInitial": 1,
   "eqLabelWithNumbers": true,
   "eqNumInitial": 1,
   "hotkeys": {
    "equation": "Ctrl-E",
    "itemize": "Ctrl-I"
   },
   "labels_anchors": false,
   "latex_user_defs": false,
   "report_style_numbering": false,
   "user_envs_cfg": false
  },
  "toc": {
   "base_numbering": 1,
   "nav_menu": {},
   "number_sections": true,
   "sideBar": true,
   "skip_h1_title": false,
   "title_cell": "Table of Contents",
   "title_sidebar": "Contents",
   "toc_cell": false,
   "toc_position": {},
   "toc_section_display": true,
   "toc_window_display": true
  }
 },
 "nbformat": 4,
 "nbformat_minor": 2
}
