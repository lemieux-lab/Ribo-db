{
 "cells": [
  {
   "cell_type": "markdown",
   "metadata": {},
   "source": [
    "# Get Assemblies String Tie : Ribo Elong, RNA"
   ]
  },
  {
   "cell_type": "markdown",
   "metadata": {},
   "source": [
    "Assembly of reads into transcripts: to capture the complete transcriptome including both annotated and unannotated transcripts, we generated sample-specific transcriptome assemblies. To this end, we used StringTie v1.3.6 (Pertea et al., 2015) guided by a reference annotation (Ensembl release 88) in RNA-seq and Ribosome Profiling Elongation BAM files."
   ]
  },
  {
   "cell_type": "markdown",
   "metadata": {},
   "source": [
    "Input Files\n",
    "```bash\n",
    "\"\"\"\n",
    "inputFiles : \n",
    "    Path to the deduplicated bam file for Ribo-Elong alignement reads\n",
    "outputFile : path\n",
    "    Path to save the gtf file output from StringTie\n",
    "library : int\n",
    "    Type of library between fr et rf (For ribo-seq reads this must be equal to 1, to 2 for RNA)\n",
    "gtfGuide : path\n",
    "    Path to gtf annotation guide file (GRCh38_Gencode26/gencode.v26.primary_assembly.annotation.gtf)\n",
    "numberMinReads : int\n",
    "    Minimun number of reads to the assemblie\n",
    "minimunLenght : int\n",
    "    Sets the minimum length allowed for the predicted transcripts. Default: 30\n",
    "minimunGap : int\n",
    "    Minimum locus gap separation value. Reads that are mapped closer than this distance are merged together in the same processing bundle\n",
    "nameTask : string\n",
    "    qsub name task\n",
    "saveOutputQsub : path\n",
    "    Path to save qsub output\n",
    "logPath : path\n",
    "    path to save log output\n",
    "gene_abund : path\n",
    "    Path to save gene_abund.tab file from stringTie\n",
    "cov_refs : path\n",
    "    Path to save cov_refs.gtf file from stringTie\n",
    "\"\"\"\n",
    "```\n",
    "Output Files\n",
    "```bash\n",
    "\"\"\"\n",
    "AssembledTranscripts.gtf : gtf-like file \n",
    "    gtf file that contains all the assembled transcripts detected by stringTie\n",
    "\n",
    "gene_abund.tab  : tab file\n",
    "    Gene abundance file generated for stringTie\n",
    "\n",
    "cov_refs.gtf : gtf-like file\n",
    "    File that contains the coverage information generated for stringTie\n",
    "\"\"\"\n",
    "```\n"
   ]
  },
  {
   "cell_type": "code",
   "execution_count": 1,
   "metadata": {
    "ExecuteTime": {
     "end_time": "2020-06-11T16:54:08.979995Z",
     "start_time": "2020-06-11T16:54:08.940178Z"
    }
   },
   "outputs": [
    {
     "name": "stdout",
     "output_type": "stream",
     "text": [
      "Ribo Elong Assemblies\n",
      "RNA Assemblies\n"
     ]
    }
   ],
   "source": [
    "%%bash\n",
    "\n",
    "echo 'Ribo Elong Assemblies'\n",
    "inputFiles='.../Alignment_Reads_Genome/Ribo/Elong/...DD.bam'\n",
    "outputFile='.../StringTieAssemblies/RiboElong/RiboElong_AssembledTranscripts.gtf'\n",
    "library=1\n",
    "gtfGuide='../../Data_Input_Scripts/GRCh38_Gencode26/gencode.v26.primary_assembly.annotation.gtf'\n",
    "numberMinReads=3\n",
    "minimunLenght=30\n",
    "minimunGap=30\n",
    "nameTask='AssemblingTranscripts_RiboElong'\n",
    "saveOutputQsub='.../qsub_outputs/'\n",
    "logPath='.../logs/'\n",
    "gene_abund='.../StringTieAssemblies/RiboElong/RiboElong_gene_abund.tab'\n",
    "cov_refs='.../StringTieAssemblies/RiboElong/RiboElong_cov_refs.gtf'\n",
    "\n",
    "sh ../../Scripts/3_Trascriptome_Assembly/stringTie_transcriptAssembly.sh $inputFiles $outputFile $library $gtfGuide $numberMinReads $minimunLenght $minimunGap $nameTask $saveOutputQsub $logPath $gene_abund $cov_refs\n",
    "\n",
    "\n",
    "echo 'RNA Assemblies'\n",
    "inputFiles='.../Alignment_Reads_Genome/RNA/RNA_Aligned.sortedByCoord.out.bam'\n",
    "outputFile='.../StringTieAssemblies/RNA/RNA_AssembledTranscripts.gtf'\n",
    "library=2\n",
    "gtfGuide='../../Data_Input_Scripts/gencode.v26.primary_assembly.annotation.gtf'\n",
    "numberMinReads=3\n",
    "minimunLenght=30\n",
    "minimunGap=50\n",
    "nameTask='AssemblingTranscripts_RNA'\n",
    "saveOutputQsub='.../qsub_outputs/'\n",
    "logPath='.../logs/'\n",
    "gene_abund='.../StringTieAssemblies/RNA/RNA_gene_abund.tab'\n",
    "cov_refs='.../StringTieAssemblies/RNA/RNA_cov_refs.gtf'\n",
    "\n",
    "sh ../../Scripts/3_Trascriptome_Assembly/stringTie_transcriptAssembly.sh $inputFiles $outputFile $library $gtfGuide $numberMinReads $minimunLenght $minimunGap $nameTask $saveOutputQsub $logPath $gene_abund $cov_refs\n"
   ]
  },
  {
   "cell_type": "markdown",
   "metadata": {},
   "source": [
    "# Separation of RiboElong and RNA assembled Transcripts to intersect with the Start codons Candidates"
   ]
  },
  {
   "cell_type": "code",
   "execution_count": 4,
   "metadata": {},
   "outputs": [
    {
     "name": "stdout",
     "output_type": "stream",
     "text": [
      "Separation Ribo Elong -\n",
      "Separation Ribo Elong +\n",
      "Separation RNA -\n",
      "Separation RNA +\n"
     ]
    }
   ],
   "source": [
    "%%bash\n",
    "\n",
    "echo 'Separation Ribo Elong -'\n",
    "grep -w - .../StringTieAssemblies/RiboElong/RiboElong_AssembledTranscripts.gtf > .../StringTieAssemblies/RiboElong/RiboElong_AssembledTranscripts-.gtf\n",
    "\n",
    "echo 'Separation Ribo Elong +'\n",
    "grep -w + .../StringTieAssemblies/RiboElong/RiboElong_AssembledTranscripts.gtf  > .../StringTieAssemblies/RiboElong/RiboElong_AssembledTranscripts+.gtf\n",
    "\n",
    "echo 'Separation RNA -'\n",
    "grep -w - .../StringTieAssemblies/RNA/RNA_AssembledTranscripts.gtf > .../StringTieAssemblies/RNA/RNA_AssembledTranscripts-.gtf\n",
    "\n",
    "echo 'Separation RNA +'\n",
    "grep -w + .../StringTieAssemblies/RNA/RNA_AssembledTranscripts.gtf > .../StringTieAssemblies/RNA/RNA_AssembledTranscripts+.gtf\n",
    "\n"
   ]
  },
  {
   "cell_type": "code",
   "execution_count": null,
   "metadata": {},
   "outputs": [],
   "source": []
  }
 ],
 "metadata": {
  "kernelspec": {
   "display_name": "Python 2",
   "language": "python",
   "name": "python2"
  },
  "language_info": {
   "codemirror_mode": {
    "name": "ipython",
    "version": 2
   },
   "file_extension": ".py",
   "mimetype": "text/x-python",
   "name": "python",
   "nbconvert_exporter": "python",
   "pygments_lexer": "ipython2",
   "version": "2.7.5"
  },
  "latex_envs": {
   "LaTeX_envs_menu_present": true,
   "autoclose": false,
   "autocomplete": true,
   "bibliofile": "biblio.bib",
   "cite_by": "apalike",
   "current_citInitial": 1,
   "eqLabelWithNumbers": true,
   "eqNumInitial": 1,
   "hotkeys": {
    "equation": "Ctrl-E",
    "itemize": "Ctrl-I"
   },
   "labels_anchors": false,
   "latex_user_defs": false,
   "report_style_numbering": false,
   "user_envs_cfg": false
  },
  "toc": {
   "base_numbering": 1,
   "nav_menu": {},
   "number_sections": true,
   "sideBar": true,
   "skip_h1_title": false,
   "title_cell": "Table of Contents",
   "title_sidebar": "Contents",
   "toc_cell": false,
   "toc_position": {},
   "toc_section_display": true,
   "toc_window_display": true
  }
 },
 "nbformat": 4,
 "nbformat_minor": 2
}
