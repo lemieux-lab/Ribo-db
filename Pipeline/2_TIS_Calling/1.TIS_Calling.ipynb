{
 "cells": [
  {
   "cell_type": "markdown",
   "metadata": {},
   "source": [
    "# Analysis Ribo-TIS reads"
   ]
  },
  {
   "attachments": {},
   "cell_type": "markdown",
   "metadata": {},
   "source": [
    "Detection of sample-specific Translation Initiation Sites (TIS) from aligned Ribo-TIS reads.\n",
    "\n",
    "<b>TIS calling:</b> to detect sample-specific Translation Initiation Sites (TIS) from the aligned Ribo-TIS reads, we developed a probabilistic approach to estimate a confidence score used to identify the genomic positions of putative start codons. "
   ]
  },
  {
   "cell_type": "markdown",
   "metadata": {},
   "source": [
    "## Estimation Probability"
   ]
  },
  {
   "attachments": {},
   "cell_type": "markdown",
   "metadata": {},
   "source": [
    "We assumed that all annotated start codons aligning with Ribo-TIS reads were true start codons, from this we propose to estimate the probability of each position $(pos)$  into each read length $l=\\left(26,...,34\\right)$, to act as the first nt of the ribosomal P-site therefore being the first nt of a start codon $(sc)$, as follows:\n",
    "\n",
    "$<1>$\n",
    "Let \n",
    "\n",
    "$ r=\\ \\left\\{\\mathrm{reads\\ being\\ at\\ the\\ first\\ nt\\ of\\ a\\ start\\ codon}\\middle|\\mathrm{\\ }len{=}l,\\ then\\ pos{=}p\\right\\}$\n",
    "\n",
    "$R=\\ \\left\\{\\mathrm{total\\ reads\\ being\\ at\\ the\\ first\\ nt\\ of\\ a\\ start\\ codon}\\middle| l e n{=}l\\right\\};$\n",
    "\n",
    "$$P\\left(sc\\ \\middle|\\ len=\\ l,\\ pos=p\\ \\right)\\ =\\ \\frac{|r|}{|R|}$$\n",
    "\n",
    "where $P(sc| len= l, pos=p)$ is the probability of a sc at the read position pos in the read of length $l=(26,...,34)$ is the probability of a sc at the read position pos in the read of length $l=(26,...,34)$.\n",
    "\n",
    "\n",
    "Then, we computed two heuristics to evaluate the certainty of the ribosomal P-site location into each read length l, and the relevance of the read-alignment regarding its multimapping. \n",
    "The first heuristic $H_1\\left(l\\right)$ assigned a normalized weight to each read length $(26-34 nt)$, computed through the standard deviation of the read positions acting as start codons, as follows:\n",
    "\n",
    "\n",
    "$<2>$\n",
    "Let \n",
    "\n",
    "$\\sigma\\ =\\ \\left\\{\\sigma_l\\middle|\\ stdev\\ of\\ read\\ positions\\ acting\\ as\\ start\\ codons\\ for\\ l=\\left(26,\\ldots,34\\right)\\right\\}$\n",
    "\n",
    "$$H_1\\left(l\\right)=1-\\left(\\frac{\\sigma_l-\\min{\\left(\\sigma\\right)}}{\\max{\\left(\\sigma\\right)}-\\min{\\left(\\sigma\\right)}}\\ast0.99\\right)$$\n",
    "\n",
    "The second heuristic $H_2\\left(R_r\\right)$ assigned a weight to each Ribo-Tis read according to its rank $\\left(R_r\\right)$  assigned a weight to each Ribo-Tis read according to its rank $\\left(R_r\\right)$ in which STAR has reported such alignments, as follows:\n",
    "\n",
    "$<3>$\n",
    "\n",
    "$$H_2\\left(R_r\\right)=1-\\left(\\frac{R_r-1}{max_R-1}\\ast0.99\\right)$$\n",
    "\n",
    "where $max_R$ is the max number of hits reported by STAR (default = 10)."
   ]
  },
  {
   "cell_type": "markdown",
   "metadata": {},
   "source": [
    "Input files: \n",
    "```python\n",
    "\"\"\"\n",
    "nameTask : string\n",
    "    qsub name task \n",
    "saveOutputQsub : string - path\n",
    "    Path to save Qsub output\n",
    "starCodonsPositions : path to list\n",
    "    Bed list of annotated start codons\n",
    "allStarCodonsPositions : path to dic\n",
    "    Dic of annotated start codons\n",
    "bamFile : path to Bam File\n",
    "    Deduplicated Bam File\n",
    "toSaveOutPuts : path\n",
    "    Path to save output files\n",
    "minReads : int\n",
    "    Minimum reads: a known start codon must have at least 3 reads to be considered\n",
    "logPath : string\n",
    "    Path to save logs\n",
    "\"\"\"\n",
    "```\n",
    "Output Files:\n",
    "```python\n",
    "\"\"\"\n",
    "Known_scs_intercepted : dic\n",
    "    Dic with information of the annotated start codons found in the sample (intercepted by Ribo-Tis reads)\n",
    "Known_scs_intercepted : list\n",
    "    List with information of the annotated start codons found in the sample (intercepted by Ribo-Tis reads)\n",
    "frequenciesByLenFragment : dic\n",
    "    Path to the dic of frequencies of each position of a read of len (26-34ntd), \n",
    "    where a known start codon is found\n",
    "Known_SC_Intercepted_Forward : bed-like file\n",
    "    Bed file with the start codons intercepted in the Forward strand\n",
    "Known_SC_Intercepted_Backward : bed-like file\n",
    "    Bed file with the start codons intercepted in the Backward strand\n",
    "\n",
    "probasByLenFragmentFromFrequencies : dic\n",
    "    Dic with the computed probability for each len (26-34) \n",
    "infoStdev : dic\n",
    "    Dic with information for each len read (26-34ntd) : total reads, mean, median, std\n",
    "weightsByLenght : dic\n",
    "    Dic with the computed heuristique H_1(l) (see above) for each len (26-34)\n",
    "\"\"\"\n",
    "```"
   ]
  },
  {
   "cell_type": "code",
   "execution_count": 8,
   "metadata": {
    "ExecuteTime": {
     "end_time": "2020-05-17T21:48:40.632152Z",
     "start_time": "2020-05-17T21:48:40.555972Z"
    }
   },
   "outputs": [],
   "source": [
    "%%bash\n",
    "\n",
    "module add torque \n",
    "nameTask='GetProbasFromAnnotatedSC'\n",
    "saveOutputQsub='.../qsub_outputs'\n",
    "starCodonsPositions='../../../Ribo_db/Data_Input_Scripts/Start_codon_Positions.bed'\n",
    "allStarCodonsPositions='../../../Ribo_db/Data_Input_Scripts/all_start_codon_Positions.dic'\n",
    "bamFile='.../Data_Preparation/Ribo_Seq_Data/Alignment_Reads_Genome/Ribo/TIS/...DD.bam' \n",
    "toSaveOutPuts='.../TIS_calling_Info/'\n",
    "minReads=3 \n",
    "logPath='.../logs/'\n",
    "\n",
    "echo \"../../Scripts/2_TIS_Calling/getProbasByLenFragmentTIS.py -i $bamFile -a $allStarCodonsPositions -o $toSaveOutPuts -s $starCodonsPositions -m $minReads -l $logPath\" | qsub -V -l nodes=1:ppn=10,mem=50gb,walltime=48:00:00 -j oe -N $nameTask -d $saveOutputQsub\n"
   ]
  },
  {
   "cell_type": "markdown",
   "metadata": {},
   "source": [
    "## Sam File from Bam File Ribo-Tis alignment"
   ]
  },
  {
   "cell_type": "markdown",
   "metadata": {
    "ExecuteTime": {
     "end_time": "2020-07-14T21:05:41.922796Z",
     "start_time": "2020-07-14T21:05:41.912797Z"
    }
   },
   "source": [
    "Generate Sam file fromt the Ribo-Tis Bam file : file to be use in the detection TIS step."
   ]
  },
  {
   "cell_type": "markdown",
   "metadata": {
    "ExecuteTime": {
     "end_time": "2020-07-14T21:07:00.345323Z",
     "start_time": "2020-07-14T21:07:00.335188Z"
    }
   },
   "source": [
    "Input Files\n",
    "```bash\n",
    "\"\"\"\n",
    "bamFile : path to Bam File\n",
    "    Deduplicated Bam File\n",
    "samFile : path to save Sam File\n",
    "    Path to save sam file\n",
    "nameTask : string\n",
    "    qsub name task\n",
    "saveOutputQsub : path\n",
    "    Path to save qsub files\n",
    "logPath : path\n",
    "    Path to save log file\n",
    "\"\"\"\n",
    "```"
   ]
  },
  {
   "cell_type": "code",
   "execution_count": 18,
   "metadata": {
    "ExecuteTime": {
     "end_time": "2020-07-14T21:11:00.080901Z",
     "start_time": "2020-07-14T21:10:59.672419Z"
    }
   },
   "outputs": [],
   "source": [
    "%%bash\n",
    "module add samtools\n",
    "module add torque\n",
    "\n",
    "bamFile='.../Data_Preparation/Ribo_Seq_Data/Alignment_Reads_Genome/Ribo/TIS/...DD.bam'\n",
    "samFile='.../Data_Preparation/Ribo_Seq_Data/Alignment_Reads_Genome/Ribo/TIS/...DD.sam'\n",
    "nameTask='BamToSam'\n",
    "saveOutputQsub='.../qsub_outputs'\n",
    "logPath='.../logs/'\n",
    "\n",
    "echo \"samtools view -h -o $samFile $bamFile\" | qsub -V -l nodes=1:ppn=10,mem=50gb,walltime=48:00:00 -j oe -N $nameTask -d $saveOutputQsub\n"
   ]
  },
  {
   "cell_type": "markdown",
   "metadata": {},
   "source": [
    "## Single Nucleotide Variants detection : FreeBayes"
   ]
  },
  {
   "cell_type": "markdown",
   "metadata": {},
   "source": [
    "Detection of the SVP using FreeBayes tool"
   ]
  },
  {
   "cell_type": "markdown",
   "metadata": {
    "ExecuteTime": {
     "end_time": "2020-07-14T21:13:52.330809Z",
     "start_time": "2020-07-14T21:13:52.316856Z"
    }
   },
   "source": [
    "Input Files\n",
    "```bash\n",
    "\"\"\"\n",
    "listFile : path to list\n",
    "    List of bam files of each sample (Ribosome profiling and RNA seq)\n",
    "genomePathFai : path\n",
    "    Path to genome index\n",
    "genomePath : path\n",
    "    Path to genome fasta\n",
    "outputFile : path\n",
    "    Path to save output from FreeBayes\n",
    "nameTask : string\n",
    "    qsub name task\n",
    "saveOutputQsub : path\n",
    "    Path to save qsub output\n",
    "logPath : path\n",
    "    Path to save log output\n",
    "\"\"\"\n",
    "```"
   ]
  },
  {
   "cell_type": "code",
   "execution_count": 20,
   "metadata": {
    "ExecuteTime": {
     "end_time": "2020-07-14T21:14:00.363785Z",
     "start_time": "2020-07-14T21:14:00.333049Z"
    }
   },
   "outputs": [
    {
     "name": "stdout",
     "output_type": "stream",
     "text": [
      "Running FreeBayes Calling\n"
     ]
    }
   ],
   "source": [
    "%%bash\n",
    "\n",
    "echo 'Running FreeBayes Calling'\n",
    "listFile='.../listBamFiles.txt'\n",
    "genomePathFai='../../../Ribo_db/Data_Input_Scripts/GRCh38_Gencode26/GRCh38.primary_assembly.genome.fa.fai'\n",
    "genomePath='../../../Ribo_db/Data_Input_Scripts/GRCh38_Gencode26/GRCh38.primary_assembly.genome.fa'\n",
    "outputFile='.../FreeBayes/'\n",
    "nameTask='FreeBayes_SNPsCalling'\n",
    "saveOutputQsub='.../qsub_outputs'\n",
    "logPath='.../logs/'\n",
    "\n",
    "sh ../../../Ribo_db/Scripts/2_TIS_Calling/freeBayes.sh $listFile $genomePathFai $genomePath $outputFile $nameTask $saveOutputQsub $logPath\n"
   ]
  },
  {
   "cell_type": "code",
   "execution_count": null,
   "metadata": {},
   "outputs": [],
   "source": [
    "%%bash\n",
    "\n",
    "input='.../FreeBayes/output.var.5X.vcf'\n",
    "python ../../Scripts/2_TIS_Calling/freebayesVCF_to_Agnostic.py $input \n"
   ]
  },
  {
   "cell_type": "markdown",
   "metadata": {},
   "source": [
    "# TIS Detection"
   ]
  },
  {
   "cell_type": "markdown",
   "metadata": {},
   "source": [
    "## First step"
   ]
  },
  {
   "attachments": {},
   "cell_type": "markdown",
   "metadata": {
    "ExecuteTime": {
     "end_time": "2020-07-15T15:45:50.163398Z",
     "start_time": "2020-07-15T15:45:50.097370Z"
    }
   },
   "source": [
    "Detection of all the start codons candidates according to Ribo-TIS reads.\n",
    "\n",
    "This step takes the sam file alignments and search all the posible start codons (ATG+Near cogante codons) into them.\n",
    "\n",
    "For each start codon, the score of start codon is calculated, as :\n",
    "\n",
    "$$P\\left(c\\middle|\\ Ribo-Tis\\ reads\\ mapped\\ to\\ x\\right)=\\frac{\\sum_{r\\ read}^{Ribo-Tis}{P\\left(sc\\ \\middle|\\ len\\ =\\ l,\\ pos\\ =\\ p\\ \\right)}\\cdot H_1\\left(l\\right)\\cdot H_2\\left(R_r\\right)}{\\sum_{r\\ read}^{Ribo-Tis}{H_1\\left(l\\right)\\cdot H_2\\left(R_r\\right)}}$$\n",
    "\n",
    "Where:\n",
    "\n",
    "where $x$ is the genomic position of the first nucleotide of a candidate start codon and $c$ is the event that indicates that the position $x$ is a start codon $sc$.\n"
   ]
  },
  {
   "cell_type": "markdown",
   "metadata": {
    "ExecuteTime": {
     "end_time": "2020-07-15T16:35:58.147238Z",
     "start_time": "2020-07-15T16:35:58.130615Z"
    }
   },
   "source": [
    "Input Files\n",
    "\n",
    "```python\n",
    "\"\"\"\n",
    "logPath : path\n",
    "    Parth to save logs output\n",
    "\n",
    "getResults : boolean\n",
    "    True --> to get all start codons candidates in the sample\n",
    "minReads : Int\n",
    "    Minimum reads: a start codon must have at least 3 reads to be considered\n",
    "\n",
    "folderToSave : path\n",
    "    Path to vfolder where the results will be saved\n",
    "probasByLenFragmentFromFrequencies : dic\n",
    "    Dic with the computed probability for each len (26-34) --  computed steps before\n",
    "    \n",
    "weightsByLenght : dic\n",
    "    Dic with the computed heuristique H_1(l) (see above) for each len (26-34)\n",
    "\n",
    "fastaFile : path\n",
    "    Path to the genome fasta\n",
    "filepath_index : path\n",
    "    Path to the genome Index\n",
    "\n",
    "samFile : path\n",
    "    Path to the sam file for the Ribo-TIS alignment corresponding to the sample\n",
    "freeByesSNPs : path\n",
    "    Path to the FreeBayes output\n",
    "quality : int\n",
    "    Quality of the SVN (default:20)\n",
    "\"\"\"\n",
    "```\n",
    "\n",
    "Output Files:\n",
    "\n",
    "```python\n",
    "\"\"\"\n",
    "SortedStartCodonsAfterApplyFilterByMinReads : list \n",
    "    List from all the start codons identified only those that have a min reads bigger or equal to a min reads chosen from the user are keeped\n",
    "\n",
    "AllStartCodonsWithoutFilter_SamFile : dic\n",
    "    Dic that saves all the start codons identified\n",
    "```"
   ]
  },
  {
   "cell_type": "code",
   "execution_count": 23,
   "metadata": {
    "ExecuteTime": {
     "end_time": "2020-07-15T17:05:59.000780Z",
     "start_time": "2020-07-15T17:05:58.629720Z"
    }
   },
   "outputs": [
    {
     "name": "stdout",
     "output_type": "stream",
     "text": [
      "Start codons detection\n"
     ]
    }
   ],
   "source": [
    "%%bash\n",
    "\n",
    "module add torque\n",
    "\n",
    "echo 'Start codons detection'\n",
    "\n",
    "logPath='.../logs/'\n",
    "\n",
    "getResults=True\n",
    "minReads=3 \n",
    "\n",
    "folderToSave='.../StartCodonsDetection/'\n",
    "probasByLenFragment='.../TIS_calling_Info/probasByLenFragmentFromFrequencies.dic'\n",
    "weightsByLenght='.../TIS_calling_Info/weightsByLenght.dic'\n",
    "\n",
    "fastaFile='../../Data_Input_Scripts/GRCh38_Gencode26/GRCh38.primary_assembly.genome.fa'\n",
    "filepath_index='../../Data_Input_Scripts/GRCh38_Gencode26/GRCh38.primary_assembly.genome.fa.fai'\n",
    "\n",
    "samFile='.../Alignment_Reads_Genome/Ribo/TIS/...DD.sam'\n",
    "freeByesSNPs='.../FreeBayes/output.var.5X.pga'\n",
    "quality=20\n",
    "\n",
    "python ../../../Ribo_db/Scripts/2_TIS_Calling/mainClassStartCodonsDetection.py -r $getResults -o $folderToSave -p $probasByLenFragment -w $weightsByLenght -m $minReads -g $fastaFile -i $filepath_index -s $samFile -l $logPath -f $freeByesSNPs -q $quality\n"
   ]
  },
  {
   "cell_type": "markdown",
   "metadata": {},
   "source": [
    "## Second step"
   ]
  },
  {
   "cell_type": "markdown",
   "metadata": {},
   "source": [
    "From all the start codons candidates identified in the first step, we select those that are above the threshold.\n",
    "\n",
    "A threshold on $P\\left(pos\\middle| c\\right)$ is establish to retain only the start codons candidates with high confidence, we ranked the computed confidence results to plot a receiver operating characteristic curve (ROC curve). This curve is plotted using the known start codons as positives and any other start codon candidates as negatives. For each point on the curve, we computed the Euclidean distance to a perfect classifier $(0,1)$ and then reported the threshold corresponding to the shortest distance to that point. Thus, any start codon candidate whose computed confidence was above the threshold was considered as a positive start codon position and was retained for further analysis."
   ]
  },
  {
   "cell_type": "markdown",
   "metadata": {},
   "source": [
    "Input Files\n",
    "```python\n",
    "\"\"\"\n",
    "logPath : path\n",
    "    Path to save log file\n",
    "getResults : boolean\n",
    "    False --> gets the final start codons after the threshold has been applied\n",
    "\n",
    "folderToSave :  path\n",
    "    Path to folder to save outputs\n",
    "Known_scs_intercepted : list\n",
    "    List with information of the annotated start codons found in the sample (intercepted by Ribo-Tis reads)\n",
    "\"\"\"\n",
    "```\n",
    "Output Files\n",
    "```python\n",
    "\"\"\"\n",
    "ROC_courbe : png image\n",
    "    Image of ROC. RIC is used to choose how many start codons have good probability\n",
    "\n",
    "StartCodonsAfterThreshold : list \n",
    "    List of start codons after the score-threshold has been applied from the ROC courve\n",
    "    \n",
    "StartCodonsAfterThreshold : dic \n",
    "    Dic for the start codons after the threshold has been applied from the ROC courve\n",
    "\n",
    "BedFileForward : bed-like file\n",
    "BedFileBackward : bed-like file \n",
    "    Bed file of backward and forward strand start codons. These bed files will be use to intersect start codons with assembled transcripts\n",
    "\n",
    "Canonical_SC : dic\n",
    "    Dic resume of the canonical start codons with their score\n",
    "\"\"\"\n",
    "```"
   ]
  },
  {
   "cell_type": "code",
   "execution_count": 24,
   "metadata": {
    "ExecuteTime": {
     "end_time": "2020-07-15T18:04:22.544327Z",
     "start_time": "2020-07-15T18:04:22.319611Z"
    }
   },
   "outputs": [
    {
     "name": "stdout",
     "output_type": "stream",
     "text": [
      "Start codons final candidates\n"
     ]
    }
   ],
   "source": [
    "%%bash\n",
    "\n",
    "module add torque\n",
    "\n",
    "echo 'Start codons final candidates'\n",
    "\n",
    "logPath='.../logs/'\n",
    "getResults=False\n",
    "\n",
    "folderToSave='.../StartCodonsDetection/'\n",
    "retainedStartsKnown='.../TIS_calling_Info/Known_scs_intercepted.list'\n",
    "\n",
    "python ../../../Ribo_db/Scripts/2_TIS_Calling/mainClassStartCodonsDetection.py -r $getResults -o $folderToSave -k $retainedStartsKnown -l $logPath\n"
   ]
  },
  {
   "cell_type": "code",
   "execution_count": null,
   "metadata": {},
   "outputs": [],
   "source": []
  }
 ],
 "metadata": {
  "kernelspec": {
   "display_name": "Python 2",
   "language": "python",
   "name": "python2"
  },
  "language_info": {
   "codemirror_mode": {
    "name": "ipython",
    "version": 2
   },
   "file_extension": ".py",
   "mimetype": "text/x-python",
   "name": "python",
   "nbconvert_exporter": "python",
   "pygments_lexer": "ipython2",
   "version": "2.7.5"
  },
  "latex_envs": {
   "LaTeX_envs_menu_present": true,
   "autoclose": false,
   "autocomplete": true,
   "bibliofile": "biblio.bib",
   "cite_by": "apalike",
   "current_citInitial": 1,
   "eqLabelWithNumbers": true,
   "eqNumInitial": 1,
   "hotkeys": {
    "equation": "Ctrl-E",
    "itemize": "Ctrl-I"
   },
   "labels_anchors": false,
   "latex_user_defs": false,
   "report_style_numbering": false,
   "user_envs_cfg": false
  },
  "toc": {
   "base_numbering": 1,
   "nav_menu": {},
   "number_sections": true,
   "sideBar": true,
   "skip_h1_title": false,
   "title_cell": "Table of Contents",
   "title_sidebar": "Contents",
   "toc_cell": false,
   "toc_position": {},
   "toc_section_display": true,
   "toc_window_display": true
  }
 },
 "nbformat": 4,
 "nbformat_minor": 2
}
